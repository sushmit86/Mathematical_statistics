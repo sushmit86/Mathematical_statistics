{
 "cells": [
  {
   "cell_type": "code",
   "execution_count": 1,
   "metadata": {
    "collapsed": true
   },
   "outputs": [],
   "source": [
    "import pandas as pd"
   ]
  },
  {
   "cell_type": "code",
   "execution_count": 3,
   "metadata": {
    "collapsed": false
   },
   "outputs": [
    {
     "data": {
      "text/html": [
       "<div>\n",
       "<table border=\"1\" class=\"dataframe\">\n",
       "  <thead>\n",
       "    <tr style=\"text-align: right;\">\n",
       "      <th></th>\n",
       "      <th>Date2010</th>\n",
       "      <th>AveKW</th>\n",
       "      <th>AveSpeed</th>\n",
       "      <th>Production</th>\n",
       "    </tr>\n",
       "  </thead>\n",
       "  <tbody>\n",
       "    <tr>\n",
       "      <th>0</th>\n",
       "      <td>Feb 14</td>\n",
       "      <td>547.9</td>\n",
       "      <td>7.8</td>\n",
       "      <td>13146</td>\n",
       "    </tr>\n",
       "    <tr>\n",
       "      <th>1</th>\n",
       "      <td>Feb 15</td>\n",
       "      <td>776.0</td>\n",
       "      <td>8.9</td>\n",
       "      <td>18626</td>\n",
       "    </tr>\n",
       "    <tr>\n",
       "      <th>2</th>\n",
       "      <td>Feb 16</td>\n",
       "      <td>944.4</td>\n",
       "      <td>9.7</td>\n",
       "      <td>22667</td>\n",
       "    </tr>\n",
       "    <tr>\n",
       "      <th>3</th>\n",
       "      <td>Feb 17</td>\n",
       "      <td>506.2</td>\n",
       "      <td>7.7</td>\n",
       "      <td>12148</td>\n",
       "    </tr>\n",
       "    <tr>\n",
       "      <th>4</th>\n",
       "      <td>Feb 18</td>\n",
       "      <td>322.9</td>\n",
       "      <td>6.4</td>\n",
       "      <td>7742</td>\n",
       "    </tr>\n",
       "  </tbody>\n",
       "</table>\n",
       "</div>"
      ],
      "text/plain": [
       "  Date2010  AveKW  AveSpeed  Production\n",
       "0   Feb 14  547.9       7.8       13146\n",
       "1   Feb 15  776.0       8.9       18626\n",
       "2   Feb 16  944.4       9.7       22667\n",
       "3   Feb 17  506.2       7.7       12148\n",
       "4   Feb 18  322.9       6.4        7742"
      ]
     },
     "execution_count": 3,
     "metadata": {},
     "output_type": "execute_result"
    }
   ],
   "source": [
    "df_turbine = pd.read_csv('/Users/sushmitroy/Mathematical_statistics/Data/Turbine.csv')\n",
    "# Reading few lines\n",
    "df_turbine.head()"
   ]
  }
 ],
 "metadata": {
  "anaconda-cloud": {},
  "kernelspec": {
   "display_name": "Python [Root]",
   "language": "python",
   "name": "Python [Root]"
  },
  "language_info": {
   "codemirror_mode": {
    "name": "ipython",
    "version": 3
   },
   "file_extension": ".py",
   "mimetype": "text/x-python",
   "name": "python",
   "nbconvert_exporter": "python",
   "pygments_lexer": "ipython3",
   "version": "3.5.2"
  }
 },
 "nbformat": 4,
 "nbformat_minor": 0
}
