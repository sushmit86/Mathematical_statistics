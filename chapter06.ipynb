{
 "cells": [
  {
   "cell_type": "code",
   "execution_count": 35,
   "metadata": {
    "collapsed": false
   },
   "outputs": [],
   "source": [
    "import pandas as pd\n",
    "import numpy as np\n",
    "from scipy.optimize import fsolve\n",
    "from scipy.optimize import root\n",
    "from bokeh.charts import Bar,Histogram, output_notebook, show , BoxPlot\n",
    "\n",
    "from bokeh.layouts import gridplot\n",
    "from bokeh.plotting import figure, show\n"
   ]
  },
  {
   "cell_type": "code",
   "execution_count": 5,
   "metadata": {
    "collapsed": false
   },
   "outputs": [],
   "source": [
    "df_turbine = pd.read_csv('/Users/sroy/Personal/Mathematical_statistics/Data/Turbine.csv')\n",
    "# Reading few lines\n",
    "wind = df_turbine['AveSpeed']"
   ]
  },
  {
   "cell_type": "code",
   "execution_count": 6,
   "metadata": {
    "collapsed": false
   },
   "outputs": [],
   "source": [
    "def weibull_shape(k,data):\n",
    "    numer = sum((data**k)*np.log(data))\n",
    "    denom = sum((data**k))\n",
    "    return numer/denom - 1/k - np.log(data).mean()\n",
    "def weibull_scale(k,data):\n",
    "    return ((data**k).mean())**(1/k)"
   ]
  },
  {
   "cell_type": "code",
   "execution_count": 27,
   "metadata": {
    "collapsed": false
   },
   "outputs": [
    {
     "name": "stdout",
     "output_type": "stream",
     "text": [
      "[ 3.16932037]\n",
      "[ 7.6612776]\n"
     ]
    },
    {
     "data": {
      "text/plain": [
       "15.199999999999999"
      ]
     },
     "execution_count": 27,
     "metadata": {},
     "output_type": "execute_result"
    }
   ],
   "source": [
    "# Estomating shape parameter\n",
    "k = root(weibull_shape, x0=1, args =(wind))['x']\n",
    "print(k)\n",
    "# Estimating scale parameter\n",
    "print(weibull_scale(k,wind))\n",
    "wind.max() + 2"
   ]
  },
  {
   "cell_type": "code",
   "execution_count": 34,
   "metadata": {
    "collapsed": false
   },
   "outputs": [
    {
     "data": {
      "text/html": [
       "\n",
       "    <div class=\"bk-root\">\n",
       "        <a href=\"http://bokeh.pydata.org\" target=\"_blank\" class=\"bk-logo bk-logo-small bk-logo-notebook\"></a>\n",
       "        <span id=\"4b2a0589-a193-4965-b454-f4b2ad43746e\">Loading BokehJS ...</span>\n",
       "    </div>"
      ]
     },
     "metadata": {},
     "output_type": "display_data"
    },
    {
     "data": {
      "application/javascript": [
       "\n",
       "(function(global) {\n",
       "  function now() {\n",
       "    return new Date();\n",
       "  }\n",
       "\n",
       "  var force = \"1\";\n",
       "\n",
       "  if (typeof (window._bokeh_onload_callbacks) === \"undefined\" || force !== \"\") {\n",
       "    window._bokeh_onload_callbacks = [];\n",
       "    window._bokeh_is_loading = undefined;\n",
       "  }\n",
       "\n",
       "  function run_callbacks() {\n",
       "    window._bokeh_onload_callbacks.forEach(function(callback) { callback() });\n",
       "    delete window._bokeh_onload_callbacks\n",
       "    console.info(\"Bokeh: all callbacks have finished\");\n",
       "  }\n",
       "\n",
       "  function load_libs(js_urls, callback) {\n",
       "    window._bokeh_onload_callbacks.push(callback);\n",
       "    if (window._bokeh_is_loading > 0) {\n",
       "      console.log(\"Bokeh: BokehJS is being loaded, scheduling callback at\", now());\n",
       "      return null;\n",
       "    }\n",
       "    if (js_urls == null || js_urls.length === 0) {\n",
       "      run_callbacks();\n",
       "      return null;\n",
       "    }\n",
       "    console.log(\"Bokeh: BokehJS not loaded, scheduling load and callback at\", now());\n",
       "    window._bokeh_is_loading = js_urls.length;\n",
       "    for (var i = 0; i < js_urls.length; i++) {\n",
       "      var url = js_urls[i];\n",
       "      var s = document.createElement('script');\n",
       "      s.src = url;\n",
       "      s.async = false;\n",
       "      s.onreadystatechange = s.onload = function() {\n",
       "        window._bokeh_is_loading--;\n",
       "        if (window._bokeh_is_loading === 0) {\n",
       "          console.log(\"Bokeh: all BokehJS libraries loaded\");\n",
       "          run_callbacks()\n",
       "        }\n",
       "      };\n",
       "      s.onerror = function() {\n",
       "        console.warn(\"failed to load library \" + url);\n",
       "      };\n",
       "      console.log(\"Bokeh: injecting script tag for BokehJS library: \", url);\n",
       "      document.getElementsByTagName(\"head\")[0].appendChild(s);\n",
       "    }\n",
       "  };\n",
       "\n",
       "  var js_urls = ['https://cdn.pydata.org/bokeh/release/bokeh-0.12.1.min.js', 'https://cdn.pydata.org/bokeh/release/bokeh-widgets-0.12.1.min.js', 'https://cdn.pydata.org/bokeh/release/bokeh-compiler-0.12.1.min.js'];\n",
       "\n",
       "  var inline_js = [\n",
       "    function(Bokeh) {\n",
       "      Bokeh.set_log_level(\"info\");\n",
       "    },\n",
       "    \n",
       "    function(Bokeh) {\n",
       "      \n",
       "      Bokeh.$(\"#4b2a0589-a193-4965-b454-f4b2ad43746e\").text(\"BokehJS successfully loaded\");\n",
       "      var kernel = Jupyter.notebook.kernel\n",
       "      if (kernel.execute !== undefined) {\n",
       "          kernel.execute(\"import bokeh.io; bokeh.io._nb_loaded = True\");\n",
       "      }\n",
       "    },\n",
       "    function(Bokeh) {\n",
       "      console.log(\"Bokeh: injecting CSS: https://cdn.pydata.org/bokeh/release/bokeh-0.12.1.min.css\");\n",
       "      Bokeh.embed.inject_css(\"https://cdn.pydata.org/bokeh/release/bokeh-0.12.1.min.css\");\n",
       "      console.log(\"Bokeh: injecting CSS: https://cdn.pydata.org/bokeh/release/bokeh-widgets-0.12.1.min.css\");\n",
       "      Bokeh.embed.inject_css(\"https://cdn.pydata.org/bokeh/release/bokeh-widgets-0.12.1.min.css\");\n",
       "    }\n",
       "  ];\n",
       "\n",
       "  function run_inline_js() {\n",
       "    for (var i = 0; i < inline_js.length; i++) {\n",
       "      inline_js[i](window.Bokeh);\n",
       "    }\n",
       "  }\n",
       "\n",
       "  if (window._bokeh_is_loading === 0) {\n",
       "    console.log(\"Bokeh: BokehJS loaded, going straight to plotting\");\n",
       "    run_inline_js();\n",
       "  } else {\n",
       "    load_libs(js_urls, function() {\n",
       "      console.log(\"Bokeh: BokehJS plotting callback run at\", now());\n",
       "      run_inline_js();\n",
       "    });\n",
       "  }\n",
       "}(this));"
      ]
     },
     "metadata": {},
     "output_type": "display_data"
    },
    {
     "data": {
      "text/html": [
       "\n",
       "\n",
       "    <div class=\"bk-root\">\n",
       "        <div class=\"plotdiv\" id=\"40b748b5-efaf-474d-9670-8133d916868b\"></div>\n",
       "    </div>\n",
       "<script type=\"text/javascript\">\n",
       "  \n",
       "  (function(global) {\n",
       "    function now() {\n",
       "      return new Date();\n",
       "    }\n",
       "  \n",
       "    var force = \"\";\n",
       "  \n",
       "    if (typeof (window._bokeh_onload_callbacks) === \"undefined\" || force !== \"\") {\n",
       "      window._bokeh_onload_callbacks = [];\n",
       "      window._bokeh_is_loading = undefined;\n",
       "    }\n",
       "  \n",
       "    function run_callbacks() {\n",
       "      window._bokeh_onload_callbacks.forEach(function(callback) { callback() });\n",
       "      delete window._bokeh_onload_callbacks\n",
       "      console.info(\"Bokeh: all callbacks have finished\");\n",
       "    }\n",
       "  \n",
       "    function load_libs(js_urls, callback) {\n",
       "      window._bokeh_onload_callbacks.push(callback);\n",
       "      if (window._bokeh_is_loading > 0) {\n",
       "        console.log(\"Bokeh: BokehJS is being loaded, scheduling callback at\", now());\n",
       "        return null;\n",
       "      }\n",
       "      if (js_urls == null || js_urls.length === 0) {\n",
       "        run_callbacks();\n",
       "        return null;\n",
       "      }\n",
       "      console.log(\"Bokeh: BokehJS not loaded, scheduling load and callback at\", now());\n",
       "      window._bokeh_is_loading = js_urls.length;\n",
       "      for (var i = 0; i < js_urls.length; i++) {\n",
       "        var url = js_urls[i];\n",
       "        var s = document.createElement('script');\n",
       "        s.src = url;\n",
       "        s.async = false;\n",
       "        s.onreadystatechange = s.onload = function() {\n",
       "          window._bokeh_is_loading--;\n",
       "          if (window._bokeh_is_loading === 0) {\n",
       "            console.log(\"Bokeh: all BokehJS libraries loaded\");\n",
       "            run_callbacks()\n",
       "          }\n",
       "        };\n",
       "        s.onerror = function() {\n",
       "          console.warn(\"failed to load library \" + url);\n",
       "        };\n",
       "        console.log(\"Bokeh: injecting script tag for BokehJS library: \", url);\n",
       "        document.getElementsByTagName(\"head\")[0].appendChild(s);\n",
       "      }\n",
       "    };var element = document.getElementById(\"40b748b5-efaf-474d-9670-8133d916868b\");\n",
       "    if (element == null) {\n",
       "      console.log(\"Bokeh: ERROR: autoload.js configured with elementid '40b748b5-efaf-474d-9670-8133d916868b' but no matching script tag was found. \")\n",
       "      return false;\n",
       "    }\n",
       "  \n",
       "    var js_urls = [];\n",
       "  \n",
       "    var inline_js = [\n",
       "      function(Bokeh) {\n",
       "        Bokeh.$(function() {\n",
       "            var docs_json = {\"07f397d8-67af-4370-94f9-3e856d451626\":{\"roots\":{\"references\":[{\"attributes\":{\"fill_alpha\":{\"field\":\"fill_alpha\"},\"fill_color\":{\"field\":\"color\"},\"height\":{\"field\":\"height\",\"units\":\"data\"},\"line_color\":{\"field\":\"line_color\"},\"width\":{\"field\":\"width\",\"units\":\"data\"},\"x\":{\"field\":\"x\"},\"y\":{\"field\":\"y\"}},\"id\":\"bb51227b-0eeb-47f2-84fa-b06fad863d10\",\"type\":\"Rect\"},{\"attributes\":{\"data_source\":{\"id\":\"da3afe84-2b38-4232-9356-f342b422c56c\",\"type\":\"ColumnDataSource\"},\"glyph\":{\"id\":\"73091e32-89fc-4a5c-a1d8-79d79a0d23d2\",\"type\":\"Rect\"},\"hover_glyph\":null,\"nonselection_glyph\":null,\"selection_glyph\":null},\"id\":\"e20e1a94-7231-4c88-964f-885861aa8f1e\",\"type\":\"GlyphRenderer\"},{\"attributes\":{},\"id\":\"c04a50e6-53e0-48d6-adc2-6a5c25bece9b\",\"type\":\"BasicTicker\"},{\"attributes\":{\"fill_alpha\":{\"field\":\"fill_alpha\"},\"fill_color\":{\"field\":\"color\"},\"height\":{\"field\":\"height\",\"units\":\"data\"},\"line_color\":{\"field\":\"line_color\"},\"width\":{\"field\":\"width\",\"units\":\"data\"},\"x\":{\"field\":\"x\"},\"y\":{\"field\":\"y\"}},\"id\":\"9b21a091-c7f8-4804-840a-cf773bd1a192\",\"type\":\"Rect\"},{\"attributes\":{\"callback\":null,\"column_names\":[\"line_color\",\"y\",\"x\",\"width\",\"color\",\"height\",\"label\",\"fill_alpha\",\"line_alpha\"],\"data\":{\"chart_index\":[\"(8.0, 9.0]\"],\"color\":[\"#f22c40\"],\"fill_alpha\":[0.8],\"height\":[0.1130952380952381],\"label\":[\"(8.0, 9.0]\"],\"line_alpha\":[1.0],\"line_color\":[\"black\"],\"width\":[1],\"x\":[\"8.5\"],\"y\":[0.05654761904761905]}},\"id\":\"35fc166d-7a2b-4632-9583-48a508278252\",\"type\":\"ColumnDataSource\"},{\"attributes\":{\"overlay\":{\"id\":\"c8fdd64b-12d4-4623-adc1-63d0156fd700\",\"type\":\"BoxAnnotation\"},\"plot\":{\"id\":\"4c13ee71-2737-4cb5-a54a-9f48241ded47\",\"subtype\":\"Chart\",\"type\":\"Plot\"}},\"id\":\"00878bd4-b8e4-4b67-b7a1-eed16ef66ff7\",\"type\":\"BoxZoomTool\"},{\"attributes\":{\"fill_alpha\":{\"field\":\"fill_alpha\"},\"fill_color\":{\"field\":\"color\"},\"height\":{\"field\":\"height\",\"units\":\"data\"},\"line_color\":{\"field\":\"line_color\"},\"width\":{\"field\":\"width\",\"units\":\"data\"},\"x\":{\"field\":\"x\"},\"y\":{\"field\":\"y\"}},\"id\":\"f68da838-a5f4-44b7-9d00-d4978a0ff3b4\",\"type\":\"Rect\"},{\"attributes\":{\"callback\":null,\"column_names\":[\"line_color\",\"y\",\"x\",\"width\",\"color\",\"height\",\"label\",\"fill_alpha\",\"line_alpha\"],\"data\":{\"chart_index\":[\"(10.0, 11.0]\"],\"color\":[\"#f22c40\"],\"fill_alpha\":[0.8],\"height\":[0.05357142857142857],\"label\":[\"(10.0, 11.0]\"],\"line_alpha\":[1.0],\"line_color\":[\"black\"],\"width\":[1],\"x\":[\"10.5\"],\"y\":[0.026785714285714284]}},\"id\":\"0135431d-5cfb-4a03-b7f5-bb134eeb2bb1\",\"type\":\"ColumnDataSource\"},{\"attributes\":{\"callback\":null,\"column_names\":[\"line_color\",\"y\",\"x\",\"width\",\"color\",\"height\",\"label\",\"fill_alpha\",\"line_alpha\"],\"data\":{\"chart_index\":[\"(11.0, 12.0]\"],\"color\":[\"#f22c40\"],\"fill_alpha\":[0.8],\"height\":[0.03571428571428571],\"label\":[\"(11.0, 12.0]\"],\"line_alpha\":[1.0],\"line_color\":[\"black\"],\"width\":[1],\"x\":[\"11.5\"],\"y\":[0.017857142857142856]}},\"id\":\"5bea641f-75e1-4c4a-8ef4-7c5f1985ac36\",\"type\":\"ColumnDataSource\"},{\"attributes\":{\"fill_alpha\":{\"field\":\"fill_alpha\"},\"fill_color\":{\"field\":\"color\"},\"height\":{\"field\":\"height\",\"units\":\"data\"},\"line_color\":{\"field\":\"line_color\"},\"width\":{\"field\":\"width\",\"units\":\"data\"},\"x\":{\"field\":\"x\"},\"y\":{\"field\":\"y\"}},\"id\":\"73091e32-89fc-4a5c-a1d8-79d79a0d23d2\",\"type\":\"Rect\"},{\"attributes\":{\"plot\":{\"id\":\"4c13ee71-2737-4cb5-a54a-9f48241ded47\",\"subtype\":\"Chart\",\"type\":\"Plot\"}},\"id\":\"9c227ecc-9a13-4986-8af4-06720ba98905\",\"type\":\"ResetTool\"},{\"attributes\":{\"data_source\":{\"id\":\"5bea641f-75e1-4c4a-8ef4-7c5f1985ac36\",\"type\":\"ColumnDataSource\"},\"glyph\":{\"id\":\"9b21a091-c7f8-4804-840a-cf773bd1a192\",\"type\":\"Rect\"},\"hover_glyph\":null,\"nonselection_glyph\":null,\"selection_glyph\":null},\"id\":\"91dfa7f6-6ba4-4b86-bfc4-501b6992bf7d\",\"type\":\"GlyphRenderer\"},{\"attributes\":{\"data_source\":{\"id\":\"de75d8db-8626-475c-85f8-9a3245e9f0d4\",\"type\":\"ColumnDataSource\"},\"glyph\":{\"id\":\"66a20960-0b67-4d6c-a233-35c2e054a657\",\"type\":\"Rect\"},\"hover_glyph\":null,\"nonselection_glyph\":null,\"selection_glyph\":null},\"id\":\"c5b96662-2edf-4bf2-9e1c-58ac9a6bd113\",\"type\":\"GlyphRenderer\"},{\"attributes\":{\"data_source\":{\"id\":\"0135431d-5cfb-4a03-b7f5-bb134eeb2bb1\",\"type\":\"ColumnDataSource\"},\"glyph\":{\"id\":\"3f75e43c-37a6-4deb-8731-bef5d0edf315\",\"type\":\"Rect\"},\"hover_glyph\":null,\"nonselection_glyph\":null,\"selection_glyph\":null},\"id\":\"35b1fd70-8cad-49c8-b7b2-c5e7dd5823c5\",\"type\":\"GlyphRenderer\"},{\"attributes\":{\"callback\":null,\"end\":14.4,\"start\":1.6},\"id\":\"7dc3dae4-6c05-4b6b-ab99-239e88b05b52\",\"type\":\"Range1d\"},{\"attributes\":{\"dimension\":1,\"plot\":{\"id\":\"4c13ee71-2737-4cb5-a54a-9f48241ded47\",\"subtype\":\"Chart\",\"type\":\"Plot\"},\"ticker\":{\"id\":\"c04a50e6-53e0-48d6-adc2-6a5c25bece9b\",\"type\":\"BasicTicker\"}},\"id\":\"28bb76b3-285e-4c27-a019-be4ed8144602\",\"type\":\"Grid\"},{\"attributes\":{},\"id\":\"d5985bf3-fc1d-4232-99ab-44a0a19d126c\",\"type\":\"BasicTickFormatter\"},{\"attributes\":{},\"id\":\"d5636157-c84e-4928-b55c-bbf5b4f79778\",\"type\":\"ToolEvents\"},{\"attributes\":{\"plot\":{\"id\":\"4c13ee71-2737-4cb5-a54a-9f48241ded47\",\"subtype\":\"Chart\",\"type\":\"Plot\"}},\"id\":\"076a720d-ba8b-4344-b016-2829caf85432\",\"type\":\"WheelZoomTool\"},{\"attributes\":{\"fill_alpha\":{\"field\":\"fill_alpha\"},\"fill_color\":{\"field\":\"color\"},\"height\":{\"field\":\"height\",\"units\":\"data\"},\"line_color\":{\"field\":\"line_color\"},\"width\":{\"field\":\"width\",\"units\":\"data\"},\"x\":{\"field\":\"x\"},\"y\":{\"field\":\"y\"}},\"id\":\"ae637505-543d-43d9-82d2-45882a3cbec6\",\"type\":\"Rect\"},{\"attributes\":{\"data_source\":{\"id\":\"98be3467-d7ad-47c7-bd29-d4ba78ee67ce\",\"type\":\"ColumnDataSource\"},\"glyph\":{\"id\":\"97ef33fa-53b2-41d7-8ebf-6c7921992393\",\"type\":\"Rect\"},\"hover_glyph\":null,\"nonselection_glyph\":null,\"selection_glyph\":null},\"id\":\"ae413b9d-de77-4809-b4f6-e21aa039c7e6\",\"type\":\"GlyphRenderer\"},{\"attributes\":{\"data_source\":{\"id\":\"93c31b57-1b27-491d-a03c-e6b248418aae\",\"type\":\"ColumnDataSource\"},\"glyph\":{\"id\":\"bb51227b-0eeb-47f2-84fa-b06fad863d10\",\"type\":\"Rect\"},\"hover_glyph\":null,\"nonselection_glyph\":null,\"selection_glyph\":null},\"id\":\"f0ace7a5-b1be-4171-ae2a-ef75f7bebf00\",\"type\":\"GlyphRenderer\"},{\"attributes\":{\"callback\":null,\"column_names\":[\"line_color\",\"y\",\"x\",\"width\",\"color\",\"height\",\"label\",\"fill_alpha\",\"line_alpha\"],\"data\":{\"chart_index\":[\"(3.0, 4.0]\"],\"color\":[\"#f22c40\"],\"fill_alpha\":[0.8],\"height\":[0.10119047619047619],\"label\":[\"(3.0, 4.0]\"],\"line_alpha\":[1.0],\"line_color\":[\"black\"],\"width\":[1],\"x\":[\"3.5\"],\"y\":[0.050595238095238096]}},\"id\":\"98be3467-d7ad-47c7-bd29-d4ba78ee67ce\",\"type\":\"ColumnDataSource\"},{\"attributes\":{\"bottom_units\":\"screen\",\"fill_alpha\":{\"value\":0.5},\"fill_color\":{\"value\":\"lightgrey\"},\"left_units\":\"screen\",\"level\":\"overlay\",\"line_alpha\":{\"value\":1.0},\"line_color\":{\"value\":\"black\"},\"line_dash\":[4,4],\"line_width\":{\"value\":2},\"plot\":null,\"render_mode\":\"css\",\"right_units\":\"screen\",\"top_units\":\"screen\"},\"id\":\"c8fdd64b-12d4-4623-adc1-63d0156fd700\",\"type\":\"BoxAnnotation\"},{\"attributes\":{\"data_source\":{\"id\":\"33af6985-ac6d-4f88-9f77-94cb47d1fa1f\",\"type\":\"ColumnDataSource\"},\"glyph\":{\"id\":\"ae637505-543d-43d9-82d2-45882a3cbec6\",\"type\":\"Rect\"},\"hover_glyph\":null,\"nonselection_glyph\":null,\"selection_glyph\":null},\"id\":\"3ff7d0e4-2417-46b6-83d0-cb077d88bfc1\",\"type\":\"GlyphRenderer\"},{\"attributes\":{\"axis_label\":\"Density\",\"formatter\":{\"id\":\"01b6b696-5b47-466a-bba1-35a6b4c55045\",\"type\":\"BasicTickFormatter\"},\"plot\":{\"id\":\"4c13ee71-2737-4cb5-a54a-9f48241ded47\",\"subtype\":\"Chart\",\"type\":\"Plot\"},\"ticker\":{\"id\":\"c04a50e6-53e0-48d6-adc2-6a5c25bece9b\",\"type\":\"BasicTicker\"}},\"id\":\"3d6e15c3-90aa-4135-bf39-eb84e59aa4db\",\"type\":\"LinearAxis\"},{\"attributes\":{\"fill_alpha\":{\"field\":\"fill_alpha\"},\"fill_color\":{\"field\":\"color\"},\"height\":{\"field\":\"height\",\"units\":\"data\"},\"line_color\":{\"field\":\"line_color\"},\"width\":{\"field\":\"width\",\"units\":\"data\"},\"x\":{\"field\":\"x\"},\"y\":{\"field\":\"y\"}},\"id\":\"50387387-c59d-4e73-84f8-a5c4e72dd1cd\",\"type\":\"Rect\"},{\"attributes\":{\"callback\":null,\"column_names\":[\"line_color\",\"y\",\"x\",\"width\",\"color\",\"height\",\"label\",\"fill_alpha\",\"line_alpha\"],\"data\":{\"chart_index\":[\"(12.0, 13.0]\"],\"color\":[\"#f22c40\"],\"fill_alpha\":[0.8],\"height\":[0.017857142857142856],\"label\":[\"(12.0, 13.0]\"],\"line_alpha\":[1.0],\"line_color\":[\"black\"],\"width\":[1],\"x\":[\"12.5\"],\"y\":[0.008928571428571428]}},\"id\":\"6b4a66ad-1932-41cf-bad5-9a529bf037ee\",\"type\":\"ColumnDataSource\"},{\"attributes\":{\"plot\":{\"id\":\"4c13ee71-2737-4cb5-a54a-9f48241ded47\",\"subtype\":\"Chart\",\"type\":\"Plot\"}},\"id\":\"beedb860-9f02-413c-90c2-d485a9d47125\",\"type\":\"HelpTool\"},{\"attributes\":{\"callback\":null,\"column_names\":[\"line_color\",\"y\",\"x\",\"width\",\"color\",\"height\",\"label\",\"fill_alpha\",\"line_alpha\"],\"data\":{\"chart_index\":[\"(4.0, 5.0]\"],\"color\":[\"#f22c40\"],\"fill_alpha\":[0.8],\"height\":[0.11904761904761904],\"label\":[\"(4.0, 5.0]\"],\"line_alpha\":[1.0],\"line_color\":[\"black\"],\"width\":[1],\"x\":[\"4.5\"],\"y\":[0.05952380952380952]}},\"id\":\"bb5716d3-0404-49ad-99f9-48d1ee2eb51e\",\"type\":\"ColumnDataSource\"},{\"attributes\":{\"fill_alpha\":{\"field\":\"fill_alpha\"},\"fill_color\":{\"field\":\"color\"},\"height\":{\"field\":\"height\",\"units\":\"data\"},\"line_color\":{\"field\":\"line_color\"},\"width\":{\"field\":\"width\",\"units\":\"data\"},\"x\":{\"field\":\"x\"},\"y\":{\"field\":\"y\"}},\"id\":\"e37f5957-08b8-4210-98b0-6eb43a57c4c9\",\"type\":\"Rect\"},{\"attributes\":{},\"id\":\"7e7ed9f0-05f0-4946-95be-7c6b680c2016\",\"type\":\"BasicTicker\"},{\"attributes\":{\"callback\":null,\"column_names\":[\"line_color\",\"y\",\"x\",\"width\",\"color\",\"height\",\"label\",\"fill_alpha\",\"line_alpha\"],\"data\":{\"chart_index\":[\"(9.0, 10.0]\"],\"color\":[\"#f22c40\"],\"fill_alpha\":[0.8],\"height\":[0.08333333333333333],\"label\":[\"(9.0, 10.0]\"],\"line_alpha\":[1.0],\"line_color\":[\"black\"],\"width\":[1],\"x\":[\"9.5\"],\"y\":[0.041666666666666664]}},\"id\":\"33af6985-ac6d-4f88-9f77-94cb47d1fa1f\",\"type\":\"ColumnDataSource\"},{\"attributes\":{\"callback\":null,\"column_names\":[\"line_color\",\"y\",\"x\",\"width\",\"color\",\"height\",\"label\",\"fill_alpha\",\"line_alpha\"],\"data\":{\"chart_index\":[\"[2.0, 3.0]\"],\"color\":[\"#f22c40\"],\"fill_alpha\":[0.8],\"height\":[0.017857142857142856],\"label\":[\"[2.0, 3.0]\"],\"line_alpha\":[1.0],\"line_color\":[\"black\"],\"width\":[1],\"x\":[\"2.5\"],\"y\":[0.008928571428571428]}},\"id\":\"93c31b57-1b27-491d-a03c-e6b248418aae\",\"type\":\"ColumnDataSource\"},{\"attributes\":{\"axis_label\":\"meters/sec\",\"formatter\":{\"id\":\"d5985bf3-fc1d-4232-99ab-44a0a19d126c\",\"type\":\"BasicTickFormatter\"},\"plot\":{\"id\":\"4c13ee71-2737-4cb5-a54a-9f48241ded47\",\"subtype\":\"Chart\",\"type\":\"Plot\"},\"ticker\":{\"id\":\"7e7ed9f0-05f0-4946-95be-7c6b680c2016\",\"type\":\"BasicTicker\"}},\"id\":\"494d8dea-7425-4bac-99e8-dcac0044f251\",\"type\":\"LinearAxis\"},{\"attributes\":{\"plot\":{\"id\":\"4c13ee71-2737-4cb5-a54a-9f48241ded47\",\"subtype\":\"Chart\",\"type\":\"Plot\"}},\"id\":\"0e7fd6ab-2cf9-4607-b9e7-ca2e725f90ee\",\"type\":\"PanTool\"},{\"attributes\":{\"data_source\":{\"id\":\"6b4a66ad-1932-41cf-bad5-9a529bf037ee\",\"type\":\"ColumnDataSource\"},\"glyph\":{\"id\":\"f68da838-a5f4-44b7-9d00-d4978a0ff3b4\",\"type\":\"Rect\"},\"hover_glyph\":null,\"nonselection_glyph\":null,\"selection_glyph\":null},\"id\":\"62509eb9-ebdf-4ca7-ac7e-961de41e0dd7\",\"type\":\"GlyphRenderer\"},{\"attributes\":{\"callback\":null,\"column_names\":[\"line_color\",\"y\",\"x\",\"width\",\"color\",\"height\",\"label\",\"fill_alpha\",\"line_alpha\"],\"data\":{\"chart_index\":[\"(6.0, 7.0]\"],\"color\":[\"#f22c40\"],\"fill_alpha\":[0.8],\"height\":[0.16666666666666666],\"label\":[\"(6.0, 7.0]\"],\"line_alpha\":[1.0],\"line_color\":[\"black\"],\"width\":[1],\"x\":[\"6.5\"],\"y\":[0.08333333333333333]}},\"id\":\"da3afe84-2b38-4232-9356-f342b422c56c\",\"type\":\"ColumnDataSource\"},{\"attributes\":{\"fill_alpha\":{\"field\":\"fill_alpha\"},\"fill_color\":{\"field\":\"color\"},\"height\":{\"field\":\"height\",\"units\":\"data\"},\"line_color\":{\"field\":\"line_color\"},\"width\":{\"field\":\"width\",\"units\":\"data\"},\"x\":{\"field\":\"x\"},\"y\":{\"field\":\"y\"}},\"id\":\"3f75e43c-37a6-4deb-8731-bef5d0edf315\",\"type\":\"Rect\"},{\"attributes\":{\"fill_alpha\":{\"field\":\"fill_alpha\"},\"fill_color\":{\"field\":\"color\"},\"height\":{\"field\":\"height\",\"units\":\"data\"},\"line_color\":{\"field\":\"line_color\"},\"width\":{\"field\":\"width\",\"units\":\"data\"},\"x\":{\"field\":\"x\"},\"y\":{\"field\":\"y\"}},\"id\":\"97ef33fa-53b2-41d7-8ebf-6c7921992393\",\"type\":\"Rect\"},{\"attributes\":{\"fill_alpha\":{\"field\":\"fill_alpha\"},\"fill_color\":{\"field\":\"color\"},\"height\":{\"field\":\"height\",\"units\":\"data\"},\"line_color\":{\"field\":\"line_color\"},\"width\":{\"field\":\"width\",\"units\":\"data\"},\"x\":{\"field\":\"x\"},\"y\":{\"field\":\"y\"}},\"id\":\"c028d00c-bcb0-4ace-998a-0ed6c1d10f91\",\"type\":\"Rect\"},{\"attributes\":{\"data_source\":{\"id\":\"83329e47-81c6-427c-a1b5-747f73af4fd8\",\"type\":\"ColumnDataSource\"},\"glyph\":{\"id\":\"c028d00c-bcb0-4ace-998a-0ed6c1d10f91\",\"type\":\"Rect\"},\"hover_glyph\":null,\"nonselection_glyph\":null,\"selection_glyph\":null},\"id\":\"3b419293-65da-45be-b2af-7a0ed96fc2fc\",\"type\":\"GlyphRenderer\"},{\"attributes\":{\"fill_alpha\":{\"field\":\"fill_alpha\"},\"fill_color\":{\"field\":\"color\"},\"height\":{\"field\":\"height\",\"units\":\"data\"},\"line_color\":{\"field\":\"line_color\"},\"width\":{\"field\":\"width\",\"units\":\"data\"},\"x\":{\"field\":\"x\"},\"y\":{\"field\":\"y\"}},\"id\":\"6d947b8f-64b8-45d9-b0e8-aa601beb5c3e\",\"type\":\"Rect\"},{\"attributes\":{\"callback\":null,\"column_names\":[\"line_color\",\"y\",\"x\",\"width\",\"color\",\"height\",\"label\",\"fill_alpha\",\"line_alpha\"],\"data\":{\"chart_index\":[\"(7.0, 8.0]\"],\"color\":[\"#f22c40\"],\"fill_alpha\":[0.8],\"height\":[0.1488095238095238],\"label\":[\"(7.0, 8.0]\"],\"line_alpha\":[1.0],\"line_color\":[\"black\"],\"width\":[1],\"x\":[\"7.5\"],\"y\":[0.0744047619047619]}},\"id\":\"de75d8db-8626-475c-85f8-9a3245e9f0d4\",\"type\":\"ColumnDataSource\"},{\"attributes\":{\"below\":[{\"id\":\"494d8dea-7425-4bac-99e8-dcac0044f251\",\"type\":\"LinearAxis\"}],\"left\":[{\"id\":\"3d6e15c3-90aa-4135-bf39-eb84e59aa4db\",\"type\":\"LinearAxis\"}],\"renderers\":[{\"id\":\"c8fdd64b-12d4-4623-adc1-63d0156fd700\",\"type\":\"BoxAnnotation\"},{\"id\":\"f0ace7a5-b1be-4171-ae2a-ef75f7bebf00\",\"type\":\"GlyphRenderer\"},{\"id\":\"ae413b9d-de77-4809-b4f6-e21aa039c7e6\",\"type\":\"GlyphRenderer\"},{\"id\":\"8bdd90f0-8ee4-46b4-9249-5023d7ce0e6e\",\"type\":\"GlyphRenderer\"},{\"id\":\"3b419293-65da-45be-b2af-7a0ed96fc2fc\",\"type\":\"GlyphRenderer\"},{\"id\":\"e20e1a94-7231-4c88-964f-885861aa8f1e\",\"type\":\"GlyphRenderer\"},{\"id\":\"c5b96662-2edf-4bf2-9e1c-58ac9a6bd113\",\"type\":\"GlyphRenderer\"},{\"id\":\"2e7e2428-d384-4db5-8183-8c412b914dc9\",\"type\":\"GlyphRenderer\"},{\"id\":\"3ff7d0e4-2417-46b6-83d0-cb077d88bfc1\",\"type\":\"GlyphRenderer\"},{\"id\":\"35b1fd70-8cad-49c8-b7b2-c5e7dd5823c5\",\"type\":\"GlyphRenderer\"},{\"id\":\"91dfa7f6-6ba4-4b86-bfc4-501b6992bf7d\",\"type\":\"GlyphRenderer\"},{\"id\":\"62509eb9-ebdf-4ca7-ac7e-961de41e0dd7\",\"type\":\"GlyphRenderer\"},{\"id\":\"7e86d552-c309-4d30-8741-ac929b6a1108\",\"type\":\"GlyphRenderer\"},{\"id\":\"a83522c4-b103-417e-85c0-76d80f886717\",\"type\":\"Legend\"},{\"id\":\"494d8dea-7425-4bac-99e8-dcac0044f251\",\"type\":\"LinearAxis\"},{\"id\":\"3d6e15c3-90aa-4135-bf39-eb84e59aa4db\",\"type\":\"LinearAxis\"},{\"id\":\"28bb76b3-285e-4c27-a019-be4ed8144602\",\"type\":\"Grid\"}],\"title\":{\"id\":\"5abb545f-3e4c-4123-9d90-8726419edc83\",\"type\":\"Title\"},\"tool_events\":{\"id\":\"d5636157-c84e-4928-b55c-bbf5b4f79778\",\"type\":\"ToolEvents\"},\"toolbar\":{\"id\":\"5177d116-7ff3-4b48-a3dd-15cd66b33113\",\"type\":\"Toolbar\"},\"x_mapper_type\":\"auto\",\"x_range\":{\"id\":\"7dc3dae4-6c05-4b6b-ab99-239e88b05b52\",\"type\":\"Range1d\"},\"y_mapper_type\":\"auto\",\"y_range\":{\"id\":\"a86a0cca-2ca4-415c-b62e-0e35d2468bfc\",\"type\":\"Range1d\"}},\"id\":\"4c13ee71-2737-4cb5-a54a-9f48241ded47\",\"subtype\":\"Chart\",\"type\":\"Plot\"},{\"attributes\":{\"data_source\":{\"id\":\"bb5716d3-0404-49ad-99f9-48d1ee2eb51e\",\"type\":\"ColumnDataSource\"},\"glyph\":{\"id\":\"50387387-c59d-4e73-84f8-a5c4e72dd1cd\",\"type\":\"Rect\"},\"hover_glyph\":null,\"nonselection_glyph\":null,\"selection_glyph\":null},\"id\":\"8bdd90f0-8ee4-46b4-9249-5023d7ce0e6e\",\"type\":\"GlyphRenderer\"},{\"attributes\":{\"callback\":null,\"column_names\":[\"line_color\",\"y\",\"x\",\"width\",\"color\",\"height\",\"label\",\"fill_alpha\",\"line_alpha\"],\"data\":{\"chart_index\":[\"(5.0, 6.0]\"],\"color\":[\"#f22c40\"],\"fill_alpha\":[0.8],\"height\":[0.13690476190476192],\"label\":[\"(5.0, 6.0]\"],\"line_alpha\":[1.0],\"line_color\":[\"black\"],\"width\":[1],\"x\":[\"5.5\"],\"y\":[0.06845238095238096]}},\"id\":\"83329e47-81c6-427c-a1b5-747f73af4fd8\",\"type\":\"ColumnDataSource\"},{\"attributes\":{},\"id\":\"01b6b696-5b47-466a-bba1-35a6b4c55045\",\"type\":\"BasicTickFormatter\"},{\"attributes\":{\"data_source\":{\"id\":\"35fc166d-7a2b-4632-9583-48a508278252\",\"type\":\"ColumnDataSource\"},\"glyph\":{\"id\":\"e37f5957-08b8-4210-98b0-6eb43a57c4c9\",\"type\":\"Rect\"},\"hover_glyph\":null,\"nonselection_glyph\":null,\"selection_glyph\":null},\"id\":\"2e7e2428-d384-4db5-8183-8c412b914dc9\",\"type\":\"GlyphRenderer\"},{\"attributes\":{\"fill_alpha\":{\"field\":\"fill_alpha\"},\"fill_color\":{\"field\":\"color\"},\"height\":{\"field\":\"height\",\"units\":\"data\"},\"line_color\":{\"field\":\"line_color\"},\"width\":{\"field\":\"width\",\"units\":\"data\"},\"x\":{\"field\":\"x\"},\"y\":{\"field\":\"y\"}},\"id\":\"66a20960-0b67-4d6c-a233-35c2e054a657\",\"type\":\"Rect\"},{\"attributes\":{\"callback\":null,\"end\":0.18333333333333335},\"id\":\"a86a0cca-2ca4-415c-b62e-0e35d2468bfc\",\"type\":\"Range1d\"},{\"attributes\":{\"plot\":{\"id\":\"4c13ee71-2737-4cb5-a54a-9f48241ded47\",\"subtype\":\"Chart\",\"type\":\"Plot\"}},\"id\":\"4540abda-507d-465b-82fb-87c05315a429\",\"type\":\"SaveTool\"},{\"attributes\":{\"data_source\":{\"id\":\"516ded49-28ed-4e8f-afba-a1a26968774b\",\"type\":\"ColumnDataSource\"},\"glyph\":{\"id\":\"6d947b8f-64b8-45d9-b0e8-aa601beb5c3e\",\"type\":\"Rect\"},\"hover_glyph\":null,\"nonselection_glyph\":null,\"selection_glyph\":null},\"id\":\"7e86d552-c309-4d30-8741-ac929b6a1108\",\"type\":\"GlyphRenderer\"},{\"attributes\":{\"active_drag\":\"auto\",\"active_scroll\":\"auto\",\"active_tap\":\"auto\",\"tools\":[{\"id\":\"0e7fd6ab-2cf9-4607-b9e7-ca2e725f90ee\",\"type\":\"PanTool\"},{\"id\":\"076a720d-ba8b-4344-b016-2829caf85432\",\"type\":\"WheelZoomTool\"},{\"id\":\"00878bd4-b8e4-4b67-b7a1-eed16ef66ff7\",\"type\":\"BoxZoomTool\"},{\"id\":\"4540abda-507d-465b-82fb-87c05315a429\",\"type\":\"SaveTool\"},{\"id\":\"9c227ecc-9a13-4986-8af4-06720ba98905\",\"type\":\"ResetTool\"},{\"id\":\"beedb860-9f02-413c-90c2-d485a9d47125\",\"type\":\"HelpTool\"}]},\"id\":\"5177d116-7ff3-4b48-a3dd-15cd66b33113\",\"type\":\"Toolbar\"},{\"attributes\":{\"location\":\"top_left\",\"plot\":{\"id\":\"4c13ee71-2737-4cb5-a54a-9f48241ded47\",\"subtype\":\"Chart\",\"type\":\"Plot\"}},\"id\":\"a83522c4-b103-417e-85c0-76d80f886717\",\"type\":\"Legend\"},{\"attributes\":{\"plot\":null,\"text\":\"Distribution of average wind speeds\"},\"id\":\"5abb545f-3e4c-4123-9d90-8726419edc83\",\"type\":\"Title\"},{\"attributes\":{\"callback\":null,\"column_names\":[\"line_color\",\"y\",\"x\",\"width\",\"color\",\"height\",\"label\",\"fill_alpha\",\"line_alpha\"],\"data\":{\"chart_index\":[\"(13.0, 14.0]\"],\"color\":[\"#f22c40\"],\"fill_alpha\":[0.8],\"height\":[0.005952380952380952],\"label\":[\"(13.0, 14.0]\"],\"line_alpha\":[1.0],\"line_color\":[\"black\"],\"width\":[1],\"x\":[\"13.5\"],\"y\":[0.002976190476190476]}},\"id\":\"516ded49-28ed-4e8f-afba-a1a26968774b\",\"type\":\"ColumnDataSource\"}],\"root_ids\":[\"4c13ee71-2737-4cb5-a54a-9f48241ded47\"]},\"title\":\"Bokeh Application\",\"version\":\"0.12.1\"}};\n",
       "            var render_items = [{\"docid\":\"07f397d8-67af-4370-94f9-3e856d451626\",\"elementid\":\"40b748b5-efaf-474d-9670-8133d916868b\",\"modelid\":\"4c13ee71-2737-4cb5-a54a-9f48241ded47\",\"notebook_comms_target\":\"b0b8f5f1-7a85-42f3-8e93-703e9da35098\"}];\n",
       "            \n",
       "            Bokeh.embed.embed_items(docs_json, render_items);\n",
       "        });\n",
       "      },\n",
       "      function(Bokeh) {\n",
       "      }\n",
       "    ];\n",
       "  \n",
       "    function run_inline_js() {\n",
       "      for (var i = 0; i < inline_js.length; i++) {\n",
       "        inline_js[i](window.Bokeh);\n",
       "      }\n",
       "    }\n",
       "  \n",
       "    if (window._bokeh_is_loading === 0) {\n",
       "      console.log(\"Bokeh: BokehJS loaded, going straight to plotting\");\n",
       "      run_inline_js();\n",
       "    } else {\n",
       "      load_libs(js_urls, function() {\n",
       "        console.log(\"Bokeh: BokehJS plotting callback run at\", now());\n",
       "        run_inline_js();\n",
       "      });\n",
       "    }\n",
       "  }(this));\n",
       "</script>"
      ]
     },
     "metadata": {},
     "output_type": "display_data"
    },
    {
     "data": {
      "text/html": [
       "<p><code>&lt;Bokeh Notebook handle for <strong>In[34]</strong>&gt;</code></p>"
      ],
      "text/plain": [
       "<bokeh.io._CommsHandle at 0x116ba25c0>"
      ]
     },
     "execution_count": 34,
     "metadata": {},
     "output_type": "execute_result"
    }
   ],
   "source": [
    "output_notebook()\n",
    "max_x = wind.max()+2\n",
    "p = Histogram(wind , title= 'Distribution of average wind speeds', density = True,\n",
    "              xlabel= 'meters/sec', ylabel = 'Density',bins= list(range(2,int(max_x),1)))\n",
    "show(p)`b"
   ]
  },
  {
   "cell_type": "code",
   "execution_count": 42,
   "metadata": {
    "collapsed": false
   },
   "outputs": [
    {
     "data": {
      "text/html": [
       "\n",
       "\n",
       "    <div class=\"bk-root\">\n",
       "        <div class=\"plotdiv\" id=\"bb98a8f2-f4ed-47d3-818d-25548fc395b9\"></div>\n",
       "    </div>\n",
       "<script type=\"text/javascript\">\n",
       "  \n",
       "  (function(global) {\n",
       "    function now() {\n",
       "      return new Date();\n",
       "    }\n",
       "  \n",
       "    var force = \"\";\n",
       "  \n",
       "    if (typeof (window._bokeh_onload_callbacks) === \"undefined\" || force !== \"\") {\n",
       "      window._bokeh_onload_callbacks = [];\n",
       "      window._bokeh_is_loading = undefined;\n",
       "    }\n",
       "  \n",
       "    function run_callbacks() {\n",
       "      window._bokeh_onload_callbacks.forEach(function(callback) { callback() });\n",
       "      delete window._bokeh_onload_callbacks\n",
       "      console.info(\"Bokeh: all callbacks have finished\");\n",
       "    }\n",
       "  \n",
       "    function load_libs(js_urls, callback) {\n",
       "      window._bokeh_onload_callbacks.push(callback);\n",
       "      if (window._bokeh_is_loading > 0) {\n",
       "        console.log(\"Bokeh: BokehJS is being loaded, scheduling callback at\", now());\n",
       "        return null;\n",
       "      }\n",
       "      if (js_urls == null || js_urls.length === 0) {\n",
       "        run_callbacks();\n",
       "        return null;\n",
       "      }\n",
       "      console.log(\"Bokeh: BokehJS not loaded, scheduling load and callback at\", now());\n",
       "      window._bokeh_is_loading = js_urls.length;\n",
       "      for (var i = 0; i < js_urls.length; i++) {\n",
       "        var url = js_urls[i];\n",
       "        var s = document.createElement('script');\n",
       "        s.src = url;\n",
       "        s.async = false;\n",
       "        s.onreadystatechange = s.onload = function() {\n",
       "          window._bokeh_is_loading--;\n",
       "          if (window._bokeh_is_loading === 0) {\n",
       "            console.log(\"Bokeh: all BokehJS libraries loaded\");\n",
       "            run_callbacks()\n",
       "          }\n",
       "        };\n",
       "        s.onerror = function() {\n",
       "          console.warn(\"failed to load library \" + url);\n",
       "        };\n",
       "        console.log(\"Bokeh: injecting script tag for BokehJS library: \", url);\n",
       "        document.getElementsByTagName(\"head\")[0].appendChild(s);\n",
       "      }\n",
       "    };var element = document.getElementById(\"bb98a8f2-f4ed-47d3-818d-25548fc395b9\");\n",
       "    if (element == null) {\n",
       "      console.log(\"Bokeh: ERROR: autoload.js configured with elementid 'bb98a8f2-f4ed-47d3-818d-25548fc395b9' but no matching script tag was found. \")\n",
       "      return false;\n",
       "    }\n",
       "  \n",
       "    var js_urls = [];\n",
       "  \n",
       "    var inline_js = [\n",
       "      function(Bokeh) {\n",
       "        Bokeh.$(function() {\n",
       "            var docs_json = {\"afc948f0-1afd-497a-b837-c5eab7f60e03\":{\"roots\":{\"references\":[{\"attributes\":{\"bottom\":{\"value\":0},\"fill_alpha\":{\"value\":0.1},\"fill_color\":{\"value\":\"#1f77b4\"},\"left\":{\"field\":\"left\"},\"line_alpha\":{\"value\":0.1},\"line_color\":{\"value\":\"#1f77b4\"},\"right\":{\"field\":\"right\"},\"top\":{\"field\":\"top\"}},\"id\":\"10cd7ab3-ebf9-4d0d-9cfe-12ba0cd6691a\",\"type\":\"Quad\"},{\"attributes\":{\"plot\":{\"id\":\"20aa2dfb-a8e3-47d2-a3a0-c35b732528c9\",\"subtype\":\"Figure\",\"type\":\"Plot\"},\"ticker\":{\"id\":\"572617ab-fc69-4d2e-a372-9be734919675\",\"type\":\"BasicTicker\"}},\"id\":\"b0f29d65-9795-4cc7-bc2a-cfbf94c94ffa\",\"type\":\"Grid\"},{\"attributes\":{\"bottom\":{\"value\":0},\"fill_color\":{\"value\":\"#036564\"},\"left\":{\"field\":\"left\"},\"line_color\":{\"value\":\"#033649\"},\"right\":{\"field\":\"right\"},\"top\":{\"field\":\"top\"}},\"id\":\"f2c5b4cc-8064-474e-94c0-40299b750830\",\"type\":\"Quad\"},{\"attributes\":{},\"id\":\"87d086d1-f0b4-4cfd-b5f5-e1e7efc8ee94\",\"type\":\"BasicTickFormatter\"},{\"attributes\":{\"callback\":null},\"id\":\"9e8c54bb-6dd4-4b92-9830-bbceca096442\",\"type\":\"DataRange1d\"},{\"attributes\":{\"plot\":{\"id\":\"20aa2dfb-a8e3-47d2-a3a0-c35b732528c9\",\"subtype\":\"Figure\",\"type\":\"Plot\"}},\"id\":\"9b7f7e6b-4809-44ce-899d-8ef74d00885d\",\"type\":\"SaveTool\"},{\"attributes\":{},\"id\":\"5de580d3-aa23-436a-b8ed-ddde32405edc\",\"type\":\"ToolEvents\"},{\"attributes\":{\"background_fill_color\":{\"value\":\"#E8DDCB\"},\"below\":[{\"id\":\"eaa4f064-3f90-44ac-abc3-795a137feddd\",\"type\":\"LinearAxis\"}],\"left\":[{\"id\":\"c73a884a-1ec7-416b-beaf-00cffa3da811\",\"type\":\"LinearAxis\"}],\"renderers\":[{\"id\":\"eaa4f064-3f90-44ac-abc3-795a137feddd\",\"type\":\"LinearAxis\"},{\"id\":\"b0f29d65-9795-4cc7-bc2a-cfbf94c94ffa\",\"type\":\"Grid\"},{\"id\":\"c73a884a-1ec7-416b-beaf-00cffa3da811\",\"type\":\"LinearAxis\"},{\"id\":\"bfa841a6-1e44-46b0-a390-017b621d4169\",\"type\":\"Grid\"},{\"id\":\"84359b32-f27c-4e41-b575-221034715210\",\"type\":\"GlyphRenderer\"}],\"title\":{\"id\":\"df91462f-aa43-47cf-afa4-4266899e7f04\",\"type\":\"Title\"},\"tool_events\":{\"id\":\"5de580d3-aa23-436a-b8ed-ddde32405edc\",\"type\":\"ToolEvents\"},\"toolbar\":{\"id\":\"aecdcef8-83ce-431e-af0b-04354310079a\",\"type\":\"Toolbar\"},\"x_range\":{\"id\":\"9e8c54bb-6dd4-4b92-9830-bbceca096442\",\"type\":\"DataRange1d\"},\"y_range\":{\"id\":\"976ffaa5-766a-4ec1-a5eb-b4abb596a402\",\"type\":\"DataRange1d\"}},\"id\":\"20aa2dfb-a8e3-47d2-a3a0-c35b732528c9\",\"subtype\":\"Figure\",\"type\":\"Plot\"},{\"attributes\":{},\"id\":\"572617ab-fc69-4d2e-a372-9be734919675\",\"type\":\"BasicTicker\"},{\"attributes\":{\"active_drag\":\"auto\",\"active_scroll\":\"auto\",\"active_tap\":\"auto\",\"tools\":[{\"id\":\"9b7f7e6b-4809-44ce-899d-8ef74d00885d\",\"type\":\"SaveTool\"}]},\"id\":\"aecdcef8-83ce-431e-af0b-04354310079a\",\"type\":\"Toolbar\"},{\"attributes\":{\"dimension\":1,\"plot\":{\"id\":\"20aa2dfb-a8e3-47d2-a3a0-c35b732528c9\",\"subtype\":\"Figure\",\"type\":\"Plot\"},\"ticker\":{\"id\":\"3ff9dbd3-19e5-4e09-86d0-08043bc08755\",\"type\":\"BasicTicker\"}},\"id\":\"bfa841a6-1e44-46b0-a390-017b621d4169\",\"type\":\"Grid\"},{\"attributes\":{},\"id\":\"3ff9dbd3-19e5-4e09-86d0-08043bc08755\",\"type\":\"BasicTicker\"},{\"attributes\":{\"callback\":null},\"id\":\"976ffaa5-766a-4ec1-a5eb-b4abb596a402\",\"type\":\"DataRange1d\"},{\"attributes\":{\"callback\":null,\"column_names\":[\"right\",\"top\",\"left\"],\"data\":{\"left\":[2,3,4,5,6,7,8,9,10,11,12,13],\"right\":[3,4,5,6,7,8,9,10,11,12,13,14],\"top\":[0.017857142857142856,0.10119047619047619,0.11904761904761904,0.13690476190476192,0.16666666666666666,0.1488095238095238,0.1130952380952381,0.08333333333333333,0.05357142857142857,0.03571428571428571,0.017857142857142856,0.005952380952380952]}},\"id\":\"e3a1a7bc-de92-4d54-afe6-d9c0f03ab232\",\"type\":\"ColumnDataSource\"},{\"attributes\":{\"axis_label\":\"meters/sec\",\"formatter\":{\"id\":\"87d086d1-f0b4-4cfd-b5f5-e1e7efc8ee94\",\"type\":\"BasicTickFormatter\"},\"plot\":{\"id\":\"20aa2dfb-a8e3-47d2-a3a0-c35b732528c9\",\"subtype\":\"Figure\",\"type\":\"Plot\"},\"ticker\":{\"id\":\"572617ab-fc69-4d2e-a372-9be734919675\",\"type\":\"BasicTicker\"}},\"id\":\"eaa4f064-3f90-44ac-abc3-795a137feddd\",\"type\":\"LinearAxis\"},{\"attributes\":{\"data_source\":{\"id\":\"e3a1a7bc-de92-4d54-afe6-d9c0f03ab232\",\"type\":\"ColumnDataSource\"},\"glyph\":{\"id\":\"f2c5b4cc-8064-474e-94c0-40299b750830\",\"type\":\"Quad\"},\"hover_glyph\":null,\"nonselection_glyph\":{\"id\":\"10cd7ab3-ebf9-4d0d-9cfe-12ba0cd6691a\",\"type\":\"Quad\"},\"selection_glyph\":null},\"id\":\"84359b32-f27c-4e41-b575-221034715210\",\"type\":\"GlyphRenderer\"},{\"attributes\":{\"plot\":null,\"text\":\"Weibull Distribution (\\u03bb=1, k=1.25)\"},\"id\":\"df91462f-aa43-47cf-afa4-4266899e7f04\",\"type\":\"Title\"},{\"attributes\":{},\"id\":\"502d450b-ae42-467f-9830-bc34c9fa8f8e\",\"type\":\"BasicTickFormatter\"},{\"attributes\":{\"axis_label\":\"Density\",\"formatter\":{\"id\":\"502d450b-ae42-467f-9830-bc34c9fa8f8e\",\"type\":\"BasicTickFormatter\"},\"plot\":{\"id\":\"20aa2dfb-a8e3-47d2-a3a0-c35b732528c9\",\"subtype\":\"Figure\",\"type\":\"Plot\"},\"ticker\":{\"id\":\"3ff9dbd3-19e5-4e09-86d0-08043bc08755\",\"type\":\"BasicTicker\"}},\"id\":\"c73a884a-1ec7-416b-beaf-00cffa3da811\",\"type\":\"LinearAxis\"}],\"root_ids\":[\"20aa2dfb-a8e3-47d2-a3a0-c35b732528c9\"]},\"title\":\"Bokeh Application\",\"version\":\"0.12.1\"}};\n",
       "            var render_items = [{\"docid\":\"afc948f0-1afd-497a-b837-c5eab7f60e03\",\"elementid\":\"bb98a8f2-f4ed-47d3-818d-25548fc395b9\",\"modelid\":\"20aa2dfb-a8e3-47d2-a3a0-c35b732528c9\",\"notebook_comms_target\":\"74338482-4ddc-49f6-b0f7-77cb20ac2da1\"}];\n",
       "            \n",
       "            Bokeh.embed.embed_items(docs_json, render_items);\n",
       "        });\n",
       "      },\n",
       "      function(Bokeh) {\n",
       "      }\n",
       "    ];\n",
       "  \n",
       "    function run_inline_js() {\n",
       "      for (var i = 0; i < inline_js.length; i++) {\n",
       "        inline_js[i](window.Bokeh);\n",
       "      }\n",
       "    }\n",
       "  \n",
       "    if (window._bokeh_is_loading === 0) {\n",
       "      console.log(\"Bokeh: BokehJS loaded, going straight to plotting\");\n",
       "      run_inline_js();\n",
       "    } else {\n",
       "      load_libs(js_urls, function() {\n",
       "        console.log(\"Bokeh: BokehJS plotting callback run at\", now());\n",
       "        run_inline_js();\n",
       "      });\n",
       "    }\n",
       "  }(this));\n",
       "</script>"
      ]
     },
     "metadata": {},
     "output_type": "display_data"
    },
    {
     "data": {
      "text/html": [
       "<p><code>&lt;Bokeh Notebook handle for <strong>In[42]</strong>&gt;</code></p>"
      ],
      "text/plain": [
       "<bokeh.io._CommsHandle at 0x116d175f8>"
      ]
     },
     "execution_count": 42,
     "metadata": {},
     "output_type": "execute_result"
    }
   ],
   "source": [
    "p = figure(title=\"Weibull Distribution (λ=1, k=1.25)\", tools=\"save\", background_fill_color=\"#E8DDCB\")\n",
    "hist,edges = np.histogram(wind, density=True, bins= list(range(2,int(max_x),1)))\n",
    "p.quad(top=hist, bottom=0, left=edges[:-1], right=edges[1:],fill_color=\"#036564\", line_color=\"#033649\")\n",
    "p.xaxis.axis_label = 'meters/sec'\n",
    "p.yaxis.axis_label = 'Density'\n",
    "show(p)\n",
    "\n",
    "\n"
   ]
  }
 ],
 "metadata": {
  "anaconda-cloud": {},
  "kernelspec": {
   "display_name": "Python 3",
   "language": "python",
   "name": "python3"
  },
  "language_info": {
   "codemirror_mode": {
    "name": "ipython",
    "version": 3
   },
   "file_extension": ".py",
   "mimetype": "text/x-python",
   "name": "python",
   "nbconvert_exporter": "python",
   "pygments_lexer": "ipython3",
   "version": "3.5.1"
  }
 },
 "nbformat": 4,
 "nbformat_minor": 0
}
