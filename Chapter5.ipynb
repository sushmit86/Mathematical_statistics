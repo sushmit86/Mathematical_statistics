{
 "cells": [
  {
   "cell_type": "code",
<<<<<<< HEAD
   "execution_count": 1,
=======
   "execution_count": 4,
>>>>>>> 8198e820b146924adda1d514f9f7223a7f181d5f
   "metadata": {
    "collapsed": true
   },
   "outputs": [],
   "source": [
    "import pandas as pd\n",
<<<<<<< HEAD
    "\n",
    "import numpy as np\n",
    "from scipy.stats import chi2\n",
    "\n"
=======
    "import itertools\n",
    "import numpy as np\n",
    "from scipy.stats import chi2\n",
    "pd.options.display.max_rows = 10000\n",
    "pd.options.display.max_columns = 1000\n",
    "%matplotlib inline\n",
    "import matplotlib.pyplot as plt\n",
    "import matplotlib\n",
    "from scipy.stats import probplot\n",
    "from scipy.special import comb\n",
    "import pylab\n",
    "from scipy.stats import gamma\n",
    "matplotlib.style.use('ggplot')"
>>>>>>> 8198e820b146924adda1d514f9f7223a7f181d5f
   ]
  },
  {
   "cell_type": "code",
<<<<<<< HEAD
   "execution_count": 6,
=======
   "execution_count": 37,
>>>>>>> 8198e820b146924adda1d514f9f7223a7f181d5f
   "metadata": {
    "collapsed": false
   },
   "outputs": [
    {
     "data": {
<<<<<<< HEAD
      "text/plain": [
       "rpy2.robjects.packages.Package as a <module 'MASS'>"
      ]
     },
     "execution_count": 6,
     "metadata": {},
     "output_type": "execute_result"
    }
   ],
   "source": [
    "from rpy2.robjects.packages import importr\n",
    "MASS = importr('MASS')\n",
    "MASS"
=======
      "image/png": "iVBORw0KGgoAAAANSUhEUgAAAXsAAAEECAYAAADJSpQfAAAABHNCSVQICAgIfAhkiAAAAAlwSFlz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\nfkDKXggh+oH/D7mrcJK3GkyZAAAAAElFTkSuQmCC\n",
      "text/plain": [
       "<matplotlib.figure.Figure at 0x11a7b4da0>"
      ]
     },
     "metadata": {},
     "output_type": "display_data"
    }
   ],
   "source": [
    "fig, ax = plt.subplots(1, 1)\n",
    "a = 1\n",
    "r = gamma.rvs(a,scale=2, size=1000)\n",
    "x = np.linspace(gamma.ppf(0.01,a,scale = 2),gamma.ppf(0.99,a,scale = 2), 100)\n",
    "ax.plot(x, gamma.pdf(x, a,scale= 2),'r-', lw=4, alpha=0.6, label='gamma pdf')\n",
    "rv = gamma(a, scale = 2)\n",
    "ax.plot(x, rv.pdf(x), 'k-', lw=2, label='frozen pdf')\n",
    "ax.legend(loc='best', frameon=False)\n",
    "ax.hist(r, normed=True, histtype='stepfilled', alpha=0.2)\n",
    "plt.show()\n"
   ]
  },
  {
   "cell_type": "code",
   "execution_count": 41,
   "metadata": {
    "collapsed": false
   },
   "outputs": [
    {
     "name": "stderr",
     "output_type": "stream",
     "text": [
      "/Users/sroy/anaconda/lib/python3.5/site-packages/matplotlib/pyplot.py:1164: UserWarning: sharex argument to subplots() was an integer. Did you intend to use subplot() (without 's')?\n",
      "  warnings.warn(\"sharex argument to subplots() was an integer.\"\n"
     ]
    },
    {
     "ename": "ValueError",
     "evalue": "sharex [1] must be one of ['all', 'row', 'col', 'none']",
     "output_type": "error",
     "traceback": [
      "\u001b[0;31m---------------------------------------------------------------------------\u001b[0m",
      "\u001b[0;31mValueError\u001b[0m                                Traceback (most recent call last)",
      "\u001b[0;32m<ipython-input-41-f2382b46abaa>\u001b[0m in \u001b[0;36m<module>\u001b[0;34m()\u001b[0m\n\u001b[0;32m----> 1\u001b[0;31m \u001b[0mfig\u001b[0m\u001b[0;34m,\u001b[0m \u001b[0max\u001b[0m \u001b[0;34m=\u001b[0m \u001b[0mplt\u001b[0m\u001b[0;34m.\u001b[0m\u001b[0msubplots\u001b[0m\u001b[0;34m(\u001b[0m\u001b[0;36m1\u001b[0m\u001b[0;34m,\u001b[0m \u001b[0;36m1\u001b[0m\u001b[0;34m,\u001b[0m\u001b[0;36m1\u001b[0m\u001b[0;34m)\u001b[0m\u001b[0;34m\u001b[0m\u001b[0m\n\u001b[0m\u001b[1;32m      2\u001b[0m \u001b[0ma\u001b[0m \u001b[0;34m=\u001b[0m \u001b[0;36m1\u001b[0m\u001b[0;34m\u001b[0m\u001b[0m\n\u001b[1;32m      3\u001b[0m \u001b[0;34m\u001b[0m\u001b[0m\n\u001b[1;32m      4\u001b[0m \u001b[0mx\u001b[0m \u001b[0;34m=\u001b[0m \u001b[0mnp\u001b[0m\u001b[0;34m.\u001b[0m\u001b[0mlinspace\u001b[0m\u001b[0;34m(\u001b[0m\u001b[0mgamma\u001b[0m\u001b[0;34m.\u001b[0m\u001b[0mppf\u001b[0m\u001b[0;34m(\u001b[0m\u001b[0;36m0.01\u001b[0m\u001b[0;34m,\u001b[0m\u001b[0ma\u001b[0m\u001b[0;34m,\u001b[0m\u001b[0mscale\u001b[0m \u001b[0;34m=\u001b[0m \u001b[0;36m2\u001b[0m\u001b[0;34m)\u001b[0m\u001b[0;34m,\u001b[0m\u001b[0mgamma\u001b[0m\u001b[0;34m.\u001b[0m\u001b[0mppf\u001b[0m\u001b[0;34m(\u001b[0m\u001b[0;36m0.99\u001b[0m\u001b[0;34m,\u001b[0m\u001b[0ma\u001b[0m\u001b[0;34m,\u001b[0m\u001b[0mscale\u001b[0m \u001b[0;34m=\u001b[0m \u001b[0;36m2\u001b[0m\u001b[0;34m)\u001b[0m\u001b[0;34m,\u001b[0m \u001b[0;36m100\u001b[0m\u001b[0;34m)\u001b[0m\u001b[0;34m\u001b[0m\u001b[0m\n\u001b[1;32m      5\u001b[0m \u001b[0max\u001b[0m\u001b[0;34m.\u001b[0m\u001b[0mplot\u001b[0m\u001b[0;34m(\u001b[0m\u001b[0mx\u001b[0m\u001b[0;34m,\u001b[0m \u001b[0mgamma\u001b[0m\u001b[0;34m.\u001b[0m\u001b[0mpdf\u001b[0m\u001b[0;34m(\u001b[0m\u001b[0mx\u001b[0m\u001b[0;34m,\u001b[0m \u001b[0ma\u001b[0m\u001b[0;34m,\u001b[0m\u001b[0mscale\u001b[0m\u001b[0;34m=\u001b[0m \u001b[0;36m2\u001b[0m\u001b[0;34m)\u001b[0m\u001b[0;34m,\u001b[0m\u001b[0;34m'r-'\u001b[0m\u001b[0;34m,\u001b[0m \u001b[0mlw\u001b[0m\u001b[0;34m=\u001b[0m\u001b[0;36m4\u001b[0m\u001b[0;34m,\u001b[0m \u001b[0malpha\u001b[0m\u001b[0;34m=\u001b[0m\u001b[0;36m0.6\u001b[0m\u001b[0;34m,\u001b[0m \u001b[0mlabel\u001b[0m\u001b[0;34m=\u001b[0m\u001b[0;34m'gamma pdf'\u001b[0m\u001b[0;34m)\u001b[0m\u001b[0;34m\u001b[0m\u001b[0m\n",
      "\u001b[0;32m/Users/sroy/anaconda/lib/python3.5/site-packages/matplotlib/pyplot.py\u001b[0m in \u001b[0;36msubplots\u001b[0;34m(nrows, ncols, sharex, sharey, squeeze, subplot_kw, gridspec_kw, **fig_kw)\u001b[0m\n\u001b[1;32m   1166\u001b[0m \u001b[0;34m\u001b[0m\u001b[0m\n\u001b[1;32m   1167\u001b[0m         raise ValueError(\"sharex [%s] must be one of %s\" %\n\u001b[0;32m-> 1168\u001b[0;31m                          (sharex, share_values))\n\u001b[0m\u001b[1;32m   1169\u001b[0m     \u001b[0;32mif\u001b[0m \u001b[0msharey\u001b[0m \u001b[0;32mnot\u001b[0m \u001b[0;32min\u001b[0m \u001b[0mshare_values\u001b[0m\u001b[0;34m:\u001b[0m\u001b[0;34m\u001b[0m\u001b[0m\n\u001b[1;32m   1170\u001b[0m         raise ValueError(\"sharey [%s] must be one of %s\" %\n",
      "\u001b[0;31mValueError\u001b[0m: sharex [1] must be one of ['all', 'row', 'col', 'none']"
     ]
    }
   ],
   "source": [
    "fig, ax = plt.subplots(1, 1,1)\n",
    "a = 1\n",
    "\n",
    "x = np.linspace(gamma.ppf(0.01,a,scale = 2),gamma.ppf(0.99,a,scale = 2), 100)\n",
    "ax.plot(x, gamma.pdf(x, a,scale= 2),'r-', lw=4, alpha=0.6, label='gamma pdf')\n",
    "\n",
    "plt.show()"
>>>>>>> 8198e820b146924adda1d514f9f7223a7f181d5f
   ]
  }
 ],
 "metadata": {
  "kernelspec": {
   "display_name": "Python 3",
   "language": "python",
   "name": "python3"
  },
  "language_info": {
   "codemirror_mode": {
    "name": "ipython",
    "version": 3
   },
   "file_extension": ".py",
   "mimetype": "text/x-python",
   "name": "python",
   "nbconvert_exporter": "python",
   "pygments_lexer": "ipython3",
   "version": "3.5.1"
  }
 },
 "nbformat": 4,
 "nbformat_minor": 0
}
