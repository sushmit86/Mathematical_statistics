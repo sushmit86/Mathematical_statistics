{
 "cells": [
  {
   "cell_type": "code",
   "execution_count": 1,
   "metadata": {
    "collapsed": true
   },
   "outputs": [],
   "source": [
    "import pandas as pd\n",
    "import itertools\n",
    "import numpy as np\n",
    "from scipy.stats import chi2\n",
    "pd.options.display.max_rows = 10000\n",
    "pd.options.display.max_columns = 1000\n",
    "%matplotlib inline\n",
    "import matplotlib.pyplot as plt\n",
    "import matplotlib\n",
    "from scipy.stats import probplot\n",
    "from scipy.special import comb\n",
    "import pylab\n",
    "matplotlib.style.use('ggplot')"
   ]
  },
  {
   "cell_type": "code",
   "execution_count": 2,
   "metadata": {
    "collapsed": false
   },
   "outputs": [
    {
     "name": "stdout",
     "output_type": "stream",
     "text": [
      "Printing all sample\n",
      "[[ 1  2  5]\n",
      " [ 1  2  6]\n",
      " [ 1  2 10]\n",
      " [ 1  2 12]\n",
      " [ 1  5  6]\n",
      " [ 1  5 10]\n",
      " [ 1  5 12]\n",
      " [ 1  6 10]\n",
      " [ 1  6 12]\n",
      " [ 1 10 12]\n",
      " [ 2  5  6]\n",
      " [ 2  5 10]\n",
      " [ 2  5 12]\n",
      " [ 2  6 10]\n",
      " [ 2  6 12]\n",
      " [ 2 10 12]\n",
      " [ 5  6 10]\n",
      " [ 5  6 12]\n",
      " [ 5 10 12]\n",
      " [ 6 10 12]]\n",
      "----------------------------\n",
      "median of all the combinations\n",
      "[  2.   2.   2.   2.   5.   5.   5.   6.   6.  10.   5.   5.   5.   6.   6.\n",
      "  10.   6.   6.  10.  10.]\n",
      "-----------------------------\n",
      "Median of the Population\n",
      "5.5\n",
      "Mean of the medians of samples\n",
      "5.7\n",
      "Plotting\n"
     ]
    },
    {
     "data": {
      "text/plain": [
       "<matplotlib.axes._subplots.AxesSubplot at 0x115f6b588>"
      ]
     },
     "execution_count": 2,
     "metadata": {},
     "output_type": "execute_result"
    },
    {
     "data": {
      "image/png": "[encoded data removed]",
      "text/plain": [
       "<matplotlib.figure.Figure at 0x115ee8cc0>"
      ]
     },
     "metadata": {},
     "output_type": "display_data"
    }
   ],
   "source": [
    "# Exercise 1\n",
    "ex1_data = np.array([1,2,5,6,10,12])\n",
    "ex1_res=itertools.combinations(ex1_data,3)\n",
    "# Printing all the data \n",
    "ex1_array = np.array(list(ex1_res))\n",
    "print('Printing all sample')\n",
    "print(ex1_array)\n",
    "print('----------------------------')\n",
    "print('median of all the combinations')\n",
    "print(np.median(ex1_array, axis=1))\n",
    "sample_median = np.median(ex1_array, axis=1)\n",
    "print('-----------------------------')\n",
    "print('Median of the Population')\n",
    "print(np.median(ex1_data))\n",
    "print('Mean of the medians of samples')\n",
    "print(np.mean(sample_median))\n",
    "print('Plotting')\n",
    "pd.Series(np.median(ex1_array, axis=1)).plot.hist()"
   ]
  },
  {
   "cell_type": "code",
   "execution_count": 26,
   "metadata": {
    "collapsed": false
   },
   "outputs": [
    {
     "name": "stdout",
     "output_type": "stream",
     "text": [
      "[ 6  8 10  8 10 12  9 11 13 10 12 14]\n",
      "3.25\n",
      "7.0\n",
      "10.25\n"
     ]
    }
   ],
   "source": [
    "a = np.array([1,3,4,5])\n",
    "b = np.array([5,7,9])\n",
    "c = []\n",
    "for elem_a in a:\n",
    "    for elem_b in b:\n",
    "        c.append(elem_a + elem_b)\n",
    "print(np.array(c))\n",
    "print(np.mean(a))\n",
    "print(np.mean(b))\n",
    "print(np.mean(c))"
   ]
  },
  {
   "cell_type": "code",
   "execution_count": 52,
   "metadata": {
    "collapsed": false
   },
   "outputs": [
    {
     "data": {
      "text/plain": [
       "0.3"
      ]
     },
     "execution_count": 52,
     "metadata": {},
     "output_type": "execute_result"
    }
   ],
   "source": [
    "# simulation of toss heads\n",
    "pd.DataFrame(np.random.randint(2, size=(10, 5000)))[0].mean()"
   ]
  }
 ],
 "metadata": {
  "kernelspec": {
   "display_name": "Python 3",
   "language": "python",
   "name": "python3"
  },
  "language_info": {
   "codemirror_mode": {
    "name": "ipython",
    "version": 3
   },
   "file_extension": ".py",
   "mimetype": "text/x-python",
   "name": "python",
   "nbconvert_exporter": "python",
   "pygments_lexer": "ipython3",
   "version": "3.5.1"
  }
 },
 "nbformat": 4,
 "nbformat_minor": 0
}
