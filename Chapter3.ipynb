{
 "cells": [
  {
   "cell_type": "markdown",
   "metadata": {},
   "source": [
    "## Chatper 3"
   ]
  },
  {
   "cell_type": "code",
   "execution_count": 14,
   "metadata": {
    "collapsed": true
   },
   "outputs": [],
   "source": [
    "# Example Chi square test\n",
    "import pandas as pd\n",
    "import pprint\n",
    "import numpy as np\n",
    "from scipy.stats import chi2\n",
    "pd.options.display.max_rows = 10000\n",
    "pd.options.display.max_columns = 1000\n",
    "from bokeh.charts import Bar,Histogram, output_notebook, show , BoxPlot\n",
    "%matplotlib inline\n",
    "import matplotlib.pyplot as plt\n",
    "import matplotlib\n",
    "from scipy.stats import probplot\n",
    "import pylab\n",
    "matplotlib.style.use('ggplot')"
   ]
  },
  {
   "cell_type": "code",
   "execution_count": 1,
   "metadata": {
    "collapsed": false
   },
   "outputs": [
    {
     "data": {
      "text/html": [
       "<div>\n",
       "<table border=\"1\" class=\"dataframe\">\n",
       "  <thead>\n",
       "    <tr style=\"text-align: right;\">\n",
       "      <th></th>\n",
       "      <th>ID</th>\n",
       "      <th>Region</th>\n",
       "      <th>Gender</th>\n",
       "      <th>Race</th>\n",
       "      <th>Education</th>\n",
       "      <th>Marital</th>\n",
       "      <th>Religion</th>\n",
       "      <th>Happy</th>\n",
       "      <th>Income</th>\n",
       "      <th>PolParty</th>\n",
       "      <th>Politics</th>\n",
       "      <th>Marijuana</th>\n",
       "      <th>DeathPenalty</th>\n",
       "      <th>OwnGun</th>\n",
       "      <th>GunLaw</th>\n",
       "      <th>SpendMilitary</th>\n",
       "      <th>SpendEduc</th>\n",
       "      <th>SpendEnv</th>\n",
       "      <th>SpendSci</th>\n",
       "      <th>Pres00</th>\n",
       "      <th>Postlife</th>\n",
       "    </tr>\n",
       "  </thead>\n",
       "  <tbody>\n",
       "    <tr>\n",
       "      <th>0</th>\n",
       "      <td>1</td>\n",
       "      <td>South Central</td>\n",
       "      <td>Female</td>\n",
       "      <td>White</td>\n",
       "      <td>HS</td>\n",
       "      <td>Divorced</td>\n",
       "      <td>Inter-nondenominational</td>\n",
       "      <td>Pretty happy</td>\n",
       "      <td>30000-34999</td>\n",
       "      <td>Strong Rep</td>\n",
       "      <td>Conservative</td>\n",
       "      <td>NaN</td>\n",
       "      <td>Favor</td>\n",
       "      <td>No</td>\n",
       "      <td>Favor</td>\n",
       "      <td>Too little</td>\n",
       "      <td>Too little</td>\n",
       "      <td>About right</td>\n",
       "      <td>About right</td>\n",
       "      <td>Bush</td>\n",
       "      <td>Yes</td>\n",
       "    </tr>\n",
       "    <tr>\n",
       "      <th>1</th>\n",
       "      <td>2</td>\n",
       "      <td>South Central</td>\n",
       "      <td>Male</td>\n",
       "      <td>White</td>\n",
       "      <td>Bachelors</td>\n",
       "      <td>Married</td>\n",
       "      <td>Protestant</td>\n",
       "      <td>Pretty happy</td>\n",
       "      <td>75000-89999</td>\n",
       "      <td>Not Str Rep</td>\n",
       "      <td>Conservative</td>\n",
       "      <td>Not legal</td>\n",
       "      <td>Favor</td>\n",
       "      <td>Yes</td>\n",
       "      <td>Oppose</td>\n",
       "      <td>About right</td>\n",
       "      <td>Too little</td>\n",
       "      <td>About right</td>\n",
       "      <td>About right</td>\n",
       "      <td>Bush</td>\n",
       "      <td>Yes</td>\n",
       "    </tr>\n",
       "    <tr>\n",
       "      <th>2</th>\n",
       "      <td>3</td>\n",
       "      <td>South Central</td>\n",
       "      <td>Female</td>\n",
       "      <td>White</td>\n",
       "      <td>HS</td>\n",
       "      <td>Separated</td>\n",
       "      <td>Protestant</td>\n",
       "      <td>NaN</td>\n",
       "      <td>35000-39999</td>\n",
       "      <td>Strong Rep</td>\n",
       "      <td>NaN</td>\n",
       "      <td>NaN</td>\n",
       "      <td>NaN</td>\n",
       "      <td>NaN</td>\n",
       "      <td>NaN</td>\n",
       "      <td>NaN</td>\n",
       "      <td>NaN</td>\n",
       "      <td>NaN</td>\n",
       "      <td>NaN</td>\n",
       "      <td>Bush</td>\n",
       "      <td>NaN</td>\n",
       "    </tr>\n",
       "    <tr>\n",
       "      <th>3</th>\n",
       "      <td>4</td>\n",
       "      <td>South Central</td>\n",
       "      <td>Female</td>\n",
       "      <td>White</td>\n",
       "      <td>Left HS</td>\n",
       "      <td>Divorced</td>\n",
       "      <td>Protestant</td>\n",
       "      <td>NaN</td>\n",
       "      <td>50000-59999</td>\n",
       "      <td>Ind, Near Dem</td>\n",
       "      <td>NaN</td>\n",
       "      <td>NaN</td>\n",
       "      <td>NaN</td>\n",
       "      <td>NaN</td>\n",
       "      <td>NaN</td>\n",
       "      <td>About right</td>\n",
       "      <td>Too little</td>\n",
       "      <td>Too little</td>\n",
       "      <td>Too little</td>\n",
       "      <td>NaN</td>\n",
       "      <td>NaN</td>\n",
       "    </tr>\n",
       "    <tr>\n",
       "      <th>4</th>\n",
       "      <td>5</td>\n",
       "      <td>South Central</td>\n",
       "      <td>Male</td>\n",
       "      <td>White</td>\n",
       "      <td>Left HS</td>\n",
       "      <td>Divorced</td>\n",
       "      <td>Protestant</td>\n",
       "      <td>NaN</td>\n",
       "      <td>40000-49999</td>\n",
       "      <td>Ind</td>\n",
       "      <td>NaN</td>\n",
       "      <td>NaN</td>\n",
       "      <td>NaN</td>\n",
       "      <td>NaN</td>\n",
       "      <td>NaN</td>\n",
       "      <td>NaN</td>\n",
       "      <td>NaN</td>\n",
       "      <td>NaN</td>\n",
       "      <td>NaN</td>\n",
       "      <td>NaN</td>\n",
       "      <td>NaN</td>\n",
       "    </tr>\n",
       "  </tbody>\n",
       "</table>\n",
       "</div>"
      ],
      "text/plain": [
       "   ID         Region  Gender   Race  Education    Marital  \\\n",
       "0   1  South Central  Female  White         HS   Divorced   \n",
       "1   2  South Central    Male  White  Bachelors    Married   \n",
       "2   3  South Central  Female  White         HS  Separated   \n",
       "3   4  South Central  Female  White    Left HS   Divorced   \n",
       "4   5  South Central    Male  White    Left HS   Divorced   \n",
       "\n",
       "                  Religion         Happy       Income       PolParty  \\\n",
       "0  Inter-nondenominational  Pretty happy  30000-34999     Strong Rep   \n",
       "1               Protestant  Pretty happy  75000-89999    Not Str Rep   \n",
       "2               Protestant           NaN  35000-39999     Strong Rep   \n",
       "3               Protestant           NaN  50000-59999  Ind, Near Dem   \n",
       "4               Protestant           NaN  40000-49999            Ind   \n",
       "\n",
       "       Politics  Marijuana DeathPenalty OwnGun  GunLaw SpendMilitary  \\\n",
       "0  Conservative        NaN        Favor     No   Favor    Too little   \n",
       "1  Conservative  Not legal        Favor    Yes  Oppose   About right   \n",
       "2           NaN        NaN          NaN    NaN     NaN           NaN   \n",
       "3           NaN        NaN          NaN    NaN     NaN   About right   \n",
       "4           NaN        NaN          NaN    NaN     NaN           NaN   \n",
       "\n",
       "    SpendEduc     SpendEnv     SpendSci Pres00 Postlife  \n",
       "0  Too little  About right  About right   Bush      Yes  \n",
       "1  Too little  About right  About right   Bush      Yes  \n",
       "2         NaN          NaN          NaN   Bush      NaN  \n",
       "3  Too little   Too little   Too little    NaN      NaN  \n",
       "4         NaN          NaN          NaN    NaN      NaN  "
      ]
     },
     "execution_count": 1,
     "metadata": {},
     "output_type": "execute_result"
    }
   ],
   "source": [
    "\n",
    "# read flights delay data\n",
    "pp = pprint.PrettyPrinter(indent=4)\n",
    "df_GS2002 = pd.read_csv('Data/GSS2002.csv')\n",
    "df_GS2002.head()"
   ]
  },
  {
   "cell_type": "code",
   "execution_count": null,
   "metadata": {
    "collapsed": false
   },
   "outputs": [],
   "source": [
    "df_GS2002_cleaned = df_GS2002[['Education','DeathPenalty']].dropna(axis= 0, subset= ['Education','DeathPenalty'])\n",
    "df_GS2002_cleaned.reset_index(inplace= True, drop= True)\n",
    "df_GS2002_cleaned.head()"
   ]
  },
  {
   "cell_type": "code",
   "execution_count": null,
   "metadata": {
    "collapsed": false
   },
   "outputs": [],
   "source": [
    "def chisq(df):\n",
    "    df_cont_table =pd.pivot_table(df, index= ['Education'], columns=['DeathPenalty'], values=[], aggfunc = len)\n",
    "    df_cont_table['Row_Sum'] = df_cont_table['Favor'] + df_cont_table['Oppose']\n",
    "    df_cont_table = df_cont_table.reset_index()\n",
    "    df_cont_table.columns.name = ''\n",
    "    Ex_favor_series=df_cont_table['Row_Sum']*sum(df_cont_table.Favor)/sum(df_cont_table.Row_Sum)\n",
    "    Ex_Oppose_series =  df_cont_table['Row_Sum']*sum(df_cont_table.Oppose)/sum(df_cont_table.Row_Sum)\n",
    "    test_stat= sum((df_cont_table['Favor'] - Ex_favor_series ) **2/Ex_favor_series)+ sum((df_cont_table['Oppose'] - Ex_Oppose_series ) **2/Ex_Oppose_series)\n",
    "    return test_stat\n",
    "chisq(df_GS2002)"
   ]
  },
  {
   "cell_type": "code",
   "execution_count": null,
   "metadata": {
    "collapsed": false
   },
   "outputs": [],
   "source": [
    "def permute_df(df):\n",
    "    sampled = df['Education'].sample(frac = 1)\n",
    "    df['Education'] = sampled.reset_index(drop= True)\n",
    "    return df"
   ]
  },
  {
   "cell_type": "code",
   "execution_count": null,
   "metadata": {
    "collapsed": false
   },
   "outputs": [],
   "source": [
    "chisqseries = pd.Series(np.zeros(10**5 -1))\n",
    "for index in range(len(chisqseries)):\n",
    "    chisqseries[index] = chisq(permute_df(df_GS2002_cleaned))\n",
    "plt.figure()\n",
    "x = np.linspace(chi2.ppf(0.01, 4),chi2.ppf(0.99, 4), 100)\n",
    "chisqseries.plot.hist(normed = True)\n",
    "#pd.Series(r).plot.hist(normed = True)\n",
    "rv = chi2(4)\n",
    "plt.plot(x, rv.pdf(x), 'k-', lw=2, label='frozen pdf')\n",
    "plt.axvline(chisq(df_GS2002), color='b', linestyle='dashed', linewidth=2)\n",
    "print('p value :')\n",
    "((chisqseries > chisq(df_GS2002) ).sum() + 1)/(10**5)"
   ]
  },
  {
   "cell_type": "code",
   "execution_count": 2,
   "metadata": {
    "collapsed": false
   },
   "outputs": [
    {
     "name": "stdout",
     "output_type": "stream",
     "text": [
      "30\n"
     ]
    },
    {
     "data": {
      "text/html": [
       "<div>\n",
       "<table border=\"1\" class=\"dataframe\">\n",
       "  <thead>\n",
       "    <tr style=\"text-align: right;\">\n",
       "      <th></th>\n",
       "      <th>ID</th>\n",
       "      <th>Hotwings</th>\n",
       "      <th>Beer</th>\n",
       "      <th>Gender</th>\n",
       "    </tr>\n",
       "  </thead>\n",
       "  <tbody>\n",
       "    <tr>\n",
       "      <th>0</th>\n",
       "      <td>1</td>\n",
       "      <td>4</td>\n",
       "      <td>24</td>\n",
       "      <td>F</td>\n",
       "    </tr>\n",
       "    <tr>\n",
       "      <th>1</th>\n",
       "      <td>2</td>\n",
       "      <td>5</td>\n",
       "      <td>0</td>\n",
       "      <td>F</td>\n",
       "    </tr>\n",
       "    <tr>\n",
       "      <th>2</th>\n",
       "      <td>3</td>\n",
       "      <td>5</td>\n",
       "      <td>12</td>\n",
       "      <td>F</td>\n",
       "    </tr>\n",
       "    <tr>\n",
       "      <th>3</th>\n",
       "      <td>4</td>\n",
       "      <td>6</td>\n",
       "      <td>12</td>\n",
       "      <td>F</td>\n",
       "    </tr>\n",
       "    <tr>\n",
       "      <th>4</th>\n",
       "      <td>5</td>\n",
       "      <td>7</td>\n",
       "      <td>12</td>\n",
       "      <td>F</td>\n",
       "    </tr>\n",
       "  </tbody>\n",
       "</table>\n",
       "</div>"
      ],
      "text/plain": [
       "   ID  Hotwings  Beer Gender\n",
       "0   1         4    24      F\n",
       "1   2         5     0      F\n",
       "2   3         5    12      F\n",
       "3   4         6    12      F\n",
       "4   5         7    12      F"
      ]
     },
     "execution_count": 2,
     "metadata": {},
     "output_type": "execute_result"
    }
   ],
   "source": [
    "# beer wings problem reading the data\n",
    "df_Beer_wings = pd.read_csv('Data/Beerwings.csv')\n",
    "print(len(df_Beer_wings))\n",
    "df_Beer_wings.head()"
   ]
  },
  {
   "cell_type": "code",
   "execution_count": 3,
   "metadata": {
    "collapsed": false
   },
   "outputs": [
    {
     "name": "stdout",
     "output_type": "stream",
     "text": [
      "5.1999999999999993\n"
     ]
    }
   ],
   "source": [
    "df_Hotwings_pivoted=pd.pivot_table(df_Beer_wings,values='Hotwings',columns= 'Gender',aggfunc= np.mean)\n",
    "pp.pprint(df_Hotwings_pivoted['M'] - df_Hotwings_pivoted['F'])"
   ]
  },
  {
   "cell_type": "code",
   "execution_count": 19,
   "metadata": {
    "collapsed": true
   },
   "outputs": [],
   "source": [
    "result_series = pd.Series(np.zeros(10**5 -1))"
   ]
  },
  {
   "cell_type": "code",
   "execution_count": 5,
   "metadata": {
    "collapsed": false
   },
   "outputs": [
    {
     "data": {
      "text/plain": [
       "Gender\n",
       "F    15\n",
       "M    15\n",
       "Name: Hotwings, dtype: int64"
      ]
     },
     "execution_count": 5,
     "metadata": {},
     "output_type": "execute_result"
    }
   ],
   "source": [
    "pd.pivot_table(df_Beer_wings,values='Hotwings',columns= 'Gender',aggfunc= np.count_nonzero)"
   ]
  },
  {
   "cell_type": "code",
   "execution_count": 6,
   "metadata": {
    "collapsed": false
   },
   "outputs": [
    {
     "data": {
      "text/html": [
       "<div>\n",
       "<table border=\"1\" class=\"dataframe\">\n",
       "  <thead>\n",
       "    <tr style=\"text-align: right;\">\n",
       "      <th></th>\n",
       "      <th>Hotwings</th>\n",
       "      <th>Gender</th>\n",
       "    </tr>\n",
       "  </thead>\n",
       "  <tbody>\n",
       "    <tr>\n",
       "      <th>0</th>\n",
       "      <td>4</td>\n",
       "      <td>F</td>\n",
       "    </tr>\n",
       "    <tr>\n",
       "      <th>1</th>\n",
       "      <td>5</td>\n",
       "      <td>F</td>\n",
       "    </tr>\n",
       "    <tr>\n",
       "      <th>2</th>\n",
       "      <td>5</td>\n",
       "      <td>F</td>\n",
       "    </tr>\n",
       "    <tr>\n",
       "      <th>3</th>\n",
       "      <td>6</td>\n",
       "      <td>F</td>\n",
       "    </tr>\n",
       "    <tr>\n",
       "      <th>4</th>\n",
       "      <td>7</td>\n",
       "      <td>F</td>\n",
       "    </tr>\n",
       "  </tbody>\n",
       "</table>\n",
       "</div>"
      ],
      "text/plain": [
       "   Hotwings Gender\n",
       "0         4      F\n",
       "1         5      F\n",
       "2         5      F\n",
       "3         6      F\n",
       "4         7      F"
      ]
     },
     "execution_count": 6,
     "metadata": {},
     "output_type": "execute_result"
    }
   ],
   "source": [
    "df_Hotwings = df_Beer_wings [['Hotwings','Gender']]\n",
    "df_Hotwings.reset_index( drop= True, inplace = True)\n",
    "df_Hotwings.head()"
   ]
  },
  {
   "cell_type": "code",
   "execution_count": 20,
   "metadata": {
    "collapsed": false
   },
   "outputs": [],
   "source": [
    "sampled = df_Hotwings['Hotwings'].sample(frac =1)\n",
    "df_Hotwings= df_Hotwings.copy()\n",
    "df_Hotwings['Hotwings']= sampled.reset_index(drop = True)"
   ]
  },
  {
   "cell_type": "code",
   "execution_count": 21,
   "metadata": {
    "collapsed": true
   },
   "outputs": [],
   "source": [
    "def permute_test(df):\n",
    "    sampled = df['Hotwings'].sample(frac =1)\n",
    "    df  = df.copy()\n",
    "    df['Hotwings'] = sampled.reset_index(drop = True)\n",
    "    pivot_series=pd.pivot_table(df,values='Hotwings',columns= 'Gender',aggfunc= np.mean)\n",
    "    return pivot_series['M'] - pivot_series['F']\n",
    "  "
   ]
  },
  {
   "cell_type": "code",
   "execution_count": 22,
   "metadata": {
    "collapsed": false
   },
   "outputs": [],
   "source": [
    "for index in range(len(result_series)):\n",
    "    result_series[index] = permute_test(df_Hotwings)"
   ]
  },
  {
   "cell_type": "code",
   "execution_count": 23,
   "metadata": {
    "collapsed": false
   },
   "outputs": [
    {
     "data": {
      "text/plain": [
       "<matplotlib.lines.Line2D at 0x1069ac4e0>"
      ]
     },
     "execution_count": 23,
     "metadata": {},
     "output_type": "execute_result"
    },
    {
     "data": {
      "image/png": "[encoded data removed]",
      "text/plain": [
       "<matplotlib.figure.Figure at 0x1069ac048>"
      ]
     },
     "metadata": {},
     "output_type": "display_data"
    }
   ],
   "source": [
    "plt.figure()\n",
    "result_series.plot.hist()\n",
    "plt.axvline(5.2 , color='b', linestyle='dashed', linewidth=2)"
   ]
  },
  {
   "cell_type": "code",
   "execution_count": 24,
   "metadata": {
    "collapsed": false
   },
   "outputs": [
    {
     "data": {
      "text/plain": [
       "0.00083000000000000001"
      ]
     },
     "execution_count": 24,
     "metadata": {},
     "output_type": "execute_result"
    }
   ],
   "source": [
    "((result_series > 5.2).sum() + 1) /(100000)"
   ]
  },
  {
   "cell_type": "code",
   "execution_count": 6,
   "metadata": {
    "collapsed": false
   },
   "outputs": [
    {
     "data": {
      "text/html": [
       "<div>\n",
       "<table border=\"1\" class=\"dataframe\">\n",
       "  <thead>\n",
       "    <tr style=\"text-align: right;\">\n",
       "      <th></th>\n",
       "      <th>Time</th>\n",
       "      <th>Group</th>\n",
       "    </tr>\n",
       "  </thead>\n",
       "  <tbody>\n",
       "    <tr>\n",
       "      <th>0</th>\n",
       "      <td>17.50</td>\n",
       "      <td>ILEC</td>\n",
       "    </tr>\n",
       "    <tr>\n",
       "      <th>1</th>\n",
       "      <td>2.40</td>\n",
       "      <td>ILEC</td>\n",
       "    </tr>\n",
       "    <tr>\n",
       "      <th>2</th>\n",
       "      <td>0.00</td>\n",
       "      <td>ILEC</td>\n",
       "    </tr>\n",
       "    <tr>\n",
       "      <th>3</th>\n",
       "      <td>0.65</td>\n",
       "      <td>ILEC</td>\n",
       "    </tr>\n",
       "    <tr>\n",
       "      <th>4</th>\n",
       "      <td>22.23</td>\n",
       "      <td>ILEC</td>\n",
       "    </tr>\n",
       "  </tbody>\n",
       "</table>\n",
       "</div>"
      ],
      "text/plain": [
       "    Time Group\n",
       "0  17.50  ILEC\n",
       "1   2.40  ILEC\n",
       "2   0.00  ILEC\n",
       "3   0.65  ILEC\n",
       "4  22.23  ILEC"
      ]
     },
     "execution_count": 6,
     "metadata": {},
     "output_type": "execute_result"
    }
   ],
   "source": [
    "df_verizon_data = pd.read_csv('Data/Verizon.csv')\n",
    "df_verizon_data.head()"
   ]
  },
  {
   "cell_type": "code",
   "execution_count": 8,
   "metadata": {
    "collapsed": false
   },
   "outputs": [
    {
     "data": {
      "text/plain": [
       "Group\n",
       "CLEC    16.509130\n",
       "ILEC     8.411611\n",
       "Name: Time, dtype: float64"
      ]
     },
     "execution_count": 8,
     "metadata": {},
     "output_type": "execute_result"
    }
   ],
   "source": [
    "# equivalent of tapply is pivot_table in python\n",
    "df_verizon_data.pivot_table( columns= 'Group' , values= 'Time', aggfunc= np.mean)"
   ]
  },
  {
   "cell_type": "code",
   "execution_count": 10,
   "metadata": {
    "collapsed": false
   },
   "outputs": [
    {
     "data": {
      "text/plain": [
       "<matplotlib.axes._subplots.AxesSubplot at 0x116e8a358>"
      ]
     },
     "execution_count": 10,
     "metadata": {},
     "output_type": "execute_result"
    },
    {
     "data": {
      "image/png": "[encoded data removed]",
      "text/plain": [
       "<matplotlib.figure.Figure at 0x1169ccfd0>"
      ]
     },
     "metadata": {},
     "output_type": "display_data"
    }
   ],
   "source": [
    "# Histogram for ILEC\n",
    "df_verizon_data[df_verizon_data['Group'] == 'ILEC'].plot.hist()"
   ]
  },
  {
   "cell_type": "code",
   "execution_count": 15,
   "metadata": {
    "collapsed": false
   },
   "outputs": [
    {
     "data": {
      "text/plain": [
       "<matplotlib.axes._subplots.AxesSubplot at 0x119abd080>"
      ]
     },
     "execution_count": 15,
     "metadata": {},
     "output_type": "execute_result"
    },
    {
     "data": {
      "image/png": "[encoded data removed]",
      "text/plain": [
       "<matplotlib.figure.Figure at 0x119b602e8>"
      ]
     },
     "metadata": {},
     "output_type": "display_data"
    }
   ],
   "source": [
    "# Histogram for CLEC using bins \n",
    "bins = np.arange(0,200,20)\n",
    "df_verizon_data[df_verizon_data['Group'] == 'CLEC'].plot.hist(bins = bins)"
   ]
  }
 ],
 "metadata": {
  "kernelspec": {
   "display_name": "Python 3",
   "language": "python",
   "name": "python3"
  },
  "language_info": {
   "codemirror_mode": {
    "name": "ipython",
    "version": 3
   },
   "file_extension": ".py",
   "mimetype": "text/x-python",
   "name": "python",
   "nbconvert_exporter": "python",
   "pygments_lexer": "ipython3",
   "version": "3.5.1"
  }
 },
 "nbformat": 4,
 "nbformat_minor": 0
}
