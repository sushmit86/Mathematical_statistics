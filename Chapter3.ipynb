{
 "cells": [
  {
   "cell_type": "markdown",
   "metadata": {},
   "source": [
    "## Chatper 3"
   ]
  },
  {
   "cell_type": "code",
   "execution_count": 1,
   "metadata": {
    "collapsed": false
   },
   "outputs": [
    {
     "data": {
      "text/html": [
       "<div>\n",
       "<table border=\"1\" class=\"dataframe\">\n",
       "  <thead>\n",
       "    <tr style=\"text-align: right;\">\n",
       "      <th></th>\n",
       "      <th>ID</th>\n",
       "      <th>Region</th>\n",
       "      <th>Gender</th>\n",
       "      <th>Race</th>\n",
       "      <th>Education</th>\n",
       "      <th>Marital</th>\n",
       "      <th>Religion</th>\n",
       "      <th>Happy</th>\n",
       "      <th>Income</th>\n",
       "      <th>PolParty</th>\n",
       "      <th>Politics</th>\n",
       "      <th>Marijuana</th>\n",
       "      <th>DeathPenalty</th>\n",
       "      <th>OwnGun</th>\n",
       "      <th>GunLaw</th>\n",
       "      <th>SpendMilitary</th>\n",
       "      <th>SpendEduc</th>\n",
       "      <th>SpendEnv</th>\n",
       "      <th>SpendSci</th>\n",
       "      <th>Pres00</th>\n",
       "      <th>Postlife</th>\n",
       "    </tr>\n",
       "  </thead>\n",
       "  <tbody>\n",
       "    <tr>\n",
       "      <th>0</th>\n",
       "      <td>1</td>\n",
       "      <td>South Central</td>\n",
       "      <td>Female</td>\n",
       "      <td>White</td>\n",
       "      <td>HS</td>\n",
       "      <td>Divorced</td>\n",
       "      <td>Inter-nondenominational</td>\n",
       "      <td>Pretty happy</td>\n",
       "      <td>30000-34999</td>\n",
       "      <td>Strong Rep</td>\n",
       "      <td>Conservative</td>\n",
       "      <td>NaN</td>\n",
       "      <td>Favor</td>\n",
       "      <td>No</td>\n",
       "      <td>Favor</td>\n",
       "      <td>Too little</td>\n",
       "      <td>Too little</td>\n",
       "      <td>About right</td>\n",
       "      <td>About right</td>\n",
       "      <td>Bush</td>\n",
       "      <td>Yes</td>\n",
       "    </tr>\n",
       "    <tr>\n",
       "      <th>1</th>\n",
       "      <td>2</td>\n",
       "      <td>South Central</td>\n",
       "      <td>Male</td>\n",
       "      <td>White</td>\n",
       "      <td>Bachelors</td>\n",
       "      <td>Married</td>\n",
       "      <td>Protestant</td>\n",
       "      <td>Pretty happy</td>\n",
       "      <td>75000-89999</td>\n",
       "      <td>Not Str Rep</td>\n",
       "      <td>Conservative</td>\n",
       "      <td>Not legal</td>\n",
       "      <td>Favor</td>\n",
       "      <td>Yes</td>\n",
       "      <td>Oppose</td>\n",
       "      <td>About right</td>\n",
       "      <td>Too little</td>\n",
       "      <td>About right</td>\n",
       "      <td>About right</td>\n",
       "      <td>Bush</td>\n",
       "      <td>Yes</td>\n",
       "    </tr>\n",
       "    <tr>\n",
       "      <th>2</th>\n",
       "      <td>3</td>\n",
       "      <td>South Central</td>\n",
       "      <td>Female</td>\n",
       "      <td>White</td>\n",
       "      <td>HS</td>\n",
       "      <td>Separated</td>\n",
       "      <td>Protestant</td>\n",
       "      <td>NaN</td>\n",
       "      <td>35000-39999</td>\n",
       "      <td>Strong Rep</td>\n",
       "      <td>NaN</td>\n",
       "      <td>NaN</td>\n",
       "      <td>NaN</td>\n",
       "      <td>NaN</td>\n",
       "      <td>NaN</td>\n",
       "      <td>NaN</td>\n",
       "      <td>NaN</td>\n",
       "      <td>NaN</td>\n",
       "      <td>NaN</td>\n",
       "      <td>Bush</td>\n",
       "      <td>NaN</td>\n",
       "    </tr>\n",
       "    <tr>\n",
       "      <th>3</th>\n",
       "      <td>4</td>\n",
       "      <td>South Central</td>\n",
       "      <td>Female</td>\n",
       "      <td>White</td>\n",
       "      <td>Left HS</td>\n",
       "      <td>Divorced</td>\n",
       "      <td>Protestant</td>\n",
       "      <td>NaN</td>\n",
       "      <td>50000-59999</td>\n",
       "      <td>Ind, Near Dem</td>\n",
       "      <td>NaN</td>\n",
       "      <td>NaN</td>\n",
       "      <td>NaN</td>\n",
       "      <td>NaN</td>\n",
       "      <td>NaN</td>\n",
       "      <td>About right</td>\n",
       "      <td>Too little</td>\n",
       "      <td>Too little</td>\n",
       "      <td>Too little</td>\n",
       "      <td>NaN</td>\n",
       "      <td>NaN</td>\n",
       "    </tr>\n",
       "    <tr>\n",
       "      <th>4</th>\n",
       "      <td>5</td>\n",
       "      <td>South Central</td>\n",
       "      <td>Male</td>\n",
       "      <td>White</td>\n",
       "      <td>Left HS</td>\n",
       "      <td>Divorced</td>\n",
       "      <td>Protestant</td>\n",
       "      <td>NaN</td>\n",
       "      <td>40000-49999</td>\n",
       "      <td>Ind</td>\n",
       "      <td>NaN</td>\n",
       "      <td>NaN</td>\n",
       "      <td>NaN</td>\n",
       "      <td>NaN</td>\n",
       "      <td>NaN</td>\n",
       "      <td>NaN</td>\n",
       "      <td>NaN</td>\n",
       "      <td>NaN</td>\n",
       "      <td>NaN</td>\n",
       "      <td>NaN</td>\n",
       "      <td>NaN</td>\n",
       "    </tr>\n",
       "  </tbody>\n",
       "</table>\n",
       "</div>"
      ],
      "text/plain": [
       "   ID         Region  Gender   Race  Education    Marital  \\\n",
       "0   1  South Central  Female  White         HS   Divorced   \n",
       "1   2  South Central    Male  White  Bachelors    Married   \n",
       "2   3  South Central  Female  White         HS  Separated   \n",
       "3   4  South Central  Female  White    Left HS   Divorced   \n",
       "4   5  South Central    Male  White    Left HS   Divorced   \n",
       "\n",
       "                  Religion         Happy       Income       PolParty  \\\n",
       "0  Inter-nondenominational  Pretty happy  30000-34999     Strong Rep   \n",
       "1               Protestant  Pretty happy  75000-89999    Not Str Rep   \n",
       "2               Protestant           NaN  35000-39999     Strong Rep   \n",
       "3               Protestant           NaN  50000-59999  Ind, Near Dem   \n",
       "4               Protestant           NaN  40000-49999            Ind   \n",
       "\n",
       "       Politics  Marijuana DeathPenalty OwnGun  GunLaw SpendMilitary  \\\n",
       "0  Conservative        NaN        Favor     No   Favor    Too little   \n",
       "1  Conservative  Not legal        Favor    Yes  Oppose   About right   \n",
       "2           NaN        NaN          NaN    NaN     NaN           NaN   \n",
       "3           NaN        NaN          NaN    NaN     NaN   About right   \n",
       "4           NaN        NaN          NaN    NaN     NaN           NaN   \n",
       "\n",
       "    SpendEduc     SpendEnv     SpendSci Pres00 Postlife  \n",
       "0  Too little  About right  About right   Bush      Yes  \n",
       "1  Too little  About right  About right   Bush      Yes  \n",
       "2         NaN          NaN          NaN   Bush      NaN  \n",
       "3  Too little   Too little   Too little    NaN      NaN  \n",
       "4         NaN          NaN          NaN    NaN      NaN  "
      ]
     },
     "execution_count": 1,
     "metadata": {},
     "output_type": "execute_result"
    }
   ],
   "source": [
    "# Example Chi square test\n",
    "import pandas as pd\n",
    "import numpy as np\n",
    "from scipy.stats import chi2\n",
    "pd.options.display.max_rows = 10000\n",
    "pd.options.display.max_columns = 1000\n",
    "from bokeh.charts import Bar,Histogram, output_notebook, show , BoxPlot\n",
    "%matplotlib inline\n",
    "import matplotlib.pyplot as plt\n",
    "import matplotlib\n",
    "matplotlib.style.use('ggplot')\n",
    "# read flights delay data\n",
    "\n",
    "df_GS2002 = pd.read_csv('Data/GSS2002.csv')\n",
    "df_GS2002.head()"
   ]
  },
  {
   "cell_type": "code",
   "execution_count": 2,
   "metadata": {
    "collapsed": false
   },
   "outputs": [
    {
     "data": {
      "text/html": [
       "<div>\n",
       "<table border=\"1\" class=\"dataframe\">\n",
       "  <thead>\n",
       "    <tr style=\"text-align: right;\">\n",
       "      <th></th>\n",
       "      <th>Education</th>\n",
       "      <th>DeathPenalty</th>\n",
       "    </tr>\n",
       "  </thead>\n",
       "  <tbody>\n",
       "    <tr>\n",
       "      <th>0</th>\n",
       "      <td>HS</td>\n",
       "      <td>Favor</td>\n",
       "    </tr>\n",
       "    <tr>\n",
       "      <th>1</th>\n",
       "      <td>Bachelors</td>\n",
       "      <td>Favor</td>\n",
       "    </tr>\n",
       "    <tr>\n",
       "      <th>2</th>\n",
       "      <td>HS</td>\n",
       "      <td>Favor</td>\n",
       "    </tr>\n",
       "    <tr>\n",
       "      <th>3</th>\n",
       "      <td>HS</td>\n",
       "      <td>Favor</td>\n",
       "    </tr>\n",
       "    <tr>\n",
       "      <th>4</th>\n",
       "      <td>HS</td>\n",
       "      <td>Favor</td>\n",
       "    </tr>\n",
       "  </tbody>\n",
       "</table>\n",
       "</div>"
      ],
      "text/plain": [
       "   Education DeathPenalty\n",
       "0         HS        Favor\n",
       "1  Bachelors        Favor\n",
       "2         HS        Favor\n",
       "3         HS        Favor\n",
       "4         HS        Favor"
      ]
     },
     "execution_count": 2,
     "metadata": {},
     "output_type": "execute_result"
    }
   ],
   "source": [
    "df_GS2002_cleaned = df_GS2002[['Education','DeathPenalty']].dropna(axis= 0, subset= ['Education','DeathPenalty'])\n",
    "df_GS2002_cleaned.reset_index(inplace= True, drop= True)\n",
    "df_GS2002_cleaned.head()"
   ]
  },
  {
   "cell_type": "code",
   "execution_count": 3,
   "metadata": {
    "collapsed": false
   },
   "outputs": [
    {
     "data": {
      "text/plain": [
       "23.450927461370544"
      ]
     },
     "execution_count": 3,
     "metadata": {},
     "output_type": "execute_result"
    }
   ],
   "source": [
    "def chisq(df):\n",
    "    df_cont_table =pd.pivot_table(df, index= ['Education'], columns=['DeathPenalty'], values=[], aggfunc = len)\n",
    "    df_cont_table['Row_Sum'] = df_cont_table['Favor'] + df_cont_table['Oppose']\n",
    "    df_cont_table = df_cont_table.reset_index()\n",
    "    df_cont_table.columns.name = ''\n",
    "    Ex_favor_series=df_cont_table['Row_Sum']*sum(df_cont_table.Favor)/sum(df_cont_table.Row_Sum)\n",
    "    Ex_Oppose_series =  df_cont_table['Row_Sum']*sum(df_cont_table.Oppose)/sum(df_cont_table.Row_Sum)\n",
    "    test_stat= sum((df_cont_table['Favor'] - Ex_favor_series ) **2/Ex_favor_series)+ sum((df_cont_table['Oppose'] - Ex_Oppose_series ) **2/Ex_Oppose_series)\n",
    "    return test_stat\n",
    "chisq(df_GS2002)"
   ]
  },
  {
   "cell_type": "code",
   "execution_count": 4,
   "metadata": {
    "collapsed": false
   },
   "outputs": [],
   "source": [
    "def permute_df(df):\n",
    "    sampled = df['Education'].sample(frac = 1)\n",
    "    df['Education'] = sampled.reset_index(drop= True)\n",
    "    return df"
   ]
  },
  {
   "cell_type": "code",
   "execution_count": 14,
   "metadata": {
    "collapsed": false
   },
   "outputs": [
    {
     "name": "stdout",
     "output_type": "stream",
     "text": [
      "p value :\n"
     ]
    },
    {
     "data": {
      "text/plain": [
       "9.0000000000000006e-05"
      ]
     },
     "execution_count": 14,
     "metadata": {},
     "output_type": "execute_result"
    },
    {
     "data": {
      "image/png": "[encoded data removed]",
      "text/plain": [
       "<matplotlib.figure.Figure at 0x119af57f0>"
      ]
     },
     "metadata": {},
     "output_type": "display_data"
    }
   ],
   "source": [
    "chisqseries = pd.Series(np.zeros(10**5 -1))\n",
    "for index in range(len(chisqseries)):\n",
    "    chisqseries[index] = chisq(permute_df(df_GS2002_cleaned))\n",
    "plt.figure()\n",
    "x = np.linspace(chi2.ppf(0.01, 4),chi2.ppf(0.99, 4), 100)\n",
    "chisqseries.plot.hist(normed = True)\n",
    "#pd.Series(r).plot.hist(normed = True)\n",
    "rv = chi2(4)\n",
    "plt.plot(x, rv.pdf(x), 'k-', lw=2, label='frozen pdf')\n",
    "plt.axvline(chisq(df_GS2002), color='b', linestyle='dashed', linewidth=2)\n",
    "print('p value :')\n",
    "((chisqseries > chisq(df_GS2002) ).sum() + 1)/(10**5)"
   ]
  }
 ],
 "metadata": {
  "kernelspec": {
   "display_name": "Python 3",
   "language": "python",
   "name": "python3"
  },
  "language_info": {
   "codemirror_mode": {
    "name": "ipython",
    "version": 3
   },
   "file_extension": ".py",
   "mimetype": "text/x-python",
   "name": "python",
   "nbconvert_exporter": "python",
   "pygments_lexer": "ipython3",
   "version": "3.5.1"
  }
 },
 "nbformat": 4,
 "nbformat_minor": 0
}
